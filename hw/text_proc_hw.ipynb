{
 "cells": [
  {
   "cell_type": "markdown",
   "metadata": {},
   "source": [
    "# Setup"
   ]
  },
  {
   "cell_type": "code",
   "execution_count": null,
   "metadata": {
    "collapsed": true
   },
   "outputs": [],
   "source": [
    "import sqlite3\n",
    "import pandas as pd\n",
    "import datetime\n",
    "from wordcloud import WordCloud, STOPWORDS \n",
    "import sys\n",
    "from os import path\n",
    "import numpy as np\n",
    "from PIL import Image\n",
    "from textblob import TextBlob\n",
    "import nltk\n",
    "import re\n",
    "import matplotlib\n",
    "import matplotlib.pyplot as plt"
   ]
  },
  {
   "cell_type": "markdown",
   "metadata": {},
   "source": [
    "# Grab text messages"
   ]
  },
  {
   "cell_type": "markdown",
   "metadata": {},
   "source": [
    "### Grab your iMessages courtesy of https://stmorse.github.io/journal/iMessage.html "
   ]
  },
  {
   "cell_type": "code",
   "execution_count": null,
   "metadata": {
    "collapsed": true
   },
   "outputs": [],
   "source": [
    "# path to message db\n",
    "conn = sqlite3.connect('/Users/wbr/Library/Messages/chat.db')\n",
    "c = conn.cursor()"
   ]
  },
  {
   "cell_type": "code",
   "execution_count": null,
   "metadata": {
    "collapsed": true
   },
   "outputs": [],
   "source": [
    "# grab the messages from chat id 194, which is my the id for my Family group chat\n",
    "# 198 is Katie chat\n",
    "cmd1 = 'SELECT ROWID, text, handle_id, \\\n",
    "            datetime(date + strftime(\\'%s\\',\\'2001-01-01\\'), \\'unixepoch\\') as date_utc \\\n",
    "            FROM message T1 \\\n",
    "            INNER JOIN chat_message_join T2 \\\n",
    "                ON T2.chat_id=198 \\\n",
    "                AND T1.ROWID=T2.message_id \\\n",
    "            ORDER BY T1.date'\n",
    "c.execute(cmd1)\n",
    "df = pd.DataFrame(c.fetchall(), columns=['id', 'text', 'sender', 'time'])"
   ]
  },
  {
   "cell_type": "code",
   "execution_count": null,
   "metadata": {
    "collapsed": true
   },
   "outputs": [],
   "source": [
    "df.head()"
   ]
  },
  {
   "cell_type": "markdown",
   "metadata": {},
   "source": [
    "# Plot a histogram of term frequency over time"
   ]
  },
  {
   "cell_type": "code",
   "execution_count": null,
   "metadata": {
    "collapsed": true
   },
   "outputs": [],
   "source": [
    "# concatenate all the texts together, dealing with blank cells \n",
    "df['text'].replace('', np.nan, inplace=True)\n",
    "df.dropna(subset=['text'], inplace=True)\n",
    "# now conc everything the right way\n",
    "conc_messages = ' '.join(df['text'])\n"
   ]
  },
  {
   "cell_type": "code",
   "execution_count": null,
   "metadata": {},
   "outputs": [],
   "source": [
    "# make a df containing only texts that include the word 'pizza'\n",
    "df_pizza = df[df['text'].str.contains('pizza')]"
   ]
  },
  {
   "cell_type": "code",
   "execution_count": null,
   "metadata": {
    "collapsed": true
   },
   "outputs": [],
   "source": [
    "# plot a historgram of months when pizza was mentioned\n",
    "df_pizza[\"time\"] = df_pizza[\"time\"].astype(\"datetime64\")"
   ]
  },
  {
   "cell_type": "code",
   "execution_count": null,
   "metadata": {
    "collapsed": true
   },
   "outputs": [],
   "source": [
    "# plot size stuff\n",
    "font = {'weight' : 'bold',\n",
    "        'size'   : 22}\n",
    "matplotlib.rc('font', **font)"
   ]
  },
  {
   "cell_type": "code",
   "execution_count": null,
   "metadata": {},
   "outputs": [],
   "source": [
    "# %matplotlib inline\n",
    "\n",
    "# October 2016 was all about the pizza\n",
    "df_pizza.groupby([df_pizza[\"time\"].dt.year, df_pizza[\"time\"].dt.month]).count().plot(kind=\"bar\")      \n",
    "plt.rcParams['figure.figsize'] = [30, 20]\n",
    "plt.show()"
   ]
  },
  {
   "cell_type": "markdown",
   "metadata": {},
   "source": [
    "# Make a Wordcloud"
   ]
  },
  {
   "cell_type": "markdown",
   "metadata": {},
   "source": [
    "### wordcloud source https://github.com/nikhilkumarsingh/wordcloud-example/blob/master/mywc.py"
   ]
  },
  {
   "cell_type": "code",
   "execution_count": null,
   "metadata": {
    "collapsed": true
   },
   "outputs": [],
   "source": [
    "# get path to directory\n",
    "currdir = '/Users/WBR/walter/python_psc290/hw'\n",
    "# cloud mask\n",
    "mask = np.array(Image.open(path.join(currdir, \"cloud.png\")))"
   ]
  },
  {
   "cell_type": "code",
   "execution_count": null,
   "metadata": {
    "collapsed": true
   },
   "outputs": [],
   "source": [
    "def create_wordcloud(text):\n",
    "    # create numpy array for wordcloud mask image\n",
    "    mask = np.array(Image.open(path.join(currdir, \"cloud.png\")))\n",
    "\n",
    "    # create set of stopwords\t\n",
    "    stopwords = set(STOPWORDS)\n",
    "\n",
    "    # create wordcloud object\n",
    "    wc = WordCloud(background_color=\"white\",\n",
    "                    max_words=150, \n",
    "                    mask=mask,\n",
    "                    stopwords=stopwords)\n",
    "\n",
    "    # generate wordcloud\n",
    "#     wc.generate(text)\n",
    "    wc.generate_from_text(text)\n",
    "    # save wordcloud\n",
    "    wc.to_file(path.join(currdir, \"wc.png\"))"
   ]
  },
  {
   "cell_type": "code",
   "execution_count": null,
   "metadata": {
    "collapsed": true
   },
   "outputs": [],
   "source": [
    "create_wordcloud(conc_messages)"
   ]
  },
  {
   "cell_type": "markdown",
   "metadata": {
    "collapsed": true
   },
   "source": [
    "# Trying textblob"
   ]
  },
  {
   "cell_type": "code",
   "execution_count": null,
   "metadata": {
    "collapsed": true
   },
   "outputs": [],
   "source": [
    "# create a textblob object\n",
    "da_words = TextBlob(conc_messages)\n",
    "# tag the POS\n",
    "tagged = da_words.tags"
   ]
  },
  {
   "cell_type": "code",
   "execution_count": null,
   "metadata": {
    "collapsed": true
   },
   "outputs": [],
   "source": [
    "# get a list of the verbs from the textblob object \n",
    "verbs_from_texts =  [t[0] for t in tagged if t[1] == 'VB']"
   ]
  },
  {
   "cell_type": "code",
   "execution_count": null,
   "metadata": {
    "collapsed": true
   },
   "outputs": [],
   "source": [
    "# Now  put the verbs and their counts in a pandas df \n",
    "items = da_words.word_counts.items()\n",
    "df_wordcounts = pd.DataFrame(list(items),columns=['word','count'])"
   ]
  },
  {
   "cell_type": "code",
   "execution_count": null,
   "metadata": {
    "collapsed": true
   },
   "outputs": [],
   "source": [
    "# now create df with just the verbs\n",
    "df_verbs =  df_wordcounts[df_wordcounts['word'].isin(verbs_from_texts)]"
   ]
  },
  {
   "cell_type": "code",
   "execution_count": null,
   "metadata": {
    "collapsed": true
   },
   "outputs": [],
   "source": [
    "df_verbs.head()"
   ]
  },
  {
   "cell_type": "code",
   "execution_count": null,
   "metadata": {
    "collapsed": true
   },
   "outputs": [],
   "source": [
    "df_verbs.sort_values('count',ascending=False)"
   ]
  }
 ],
 "metadata": {
  "kernelspec": {
   "display_name": "Python 3",
   "language": "python",
   "name": "python3"
  },
  "language_info": {
   "codemirror_mode": {
    "name": "ipython",
    "version": 3
   },
   "file_extension": ".py",
   "mimetype": "text/x-python",
   "name": "python",
   "nbconvert_exporter": "python",
   "pygments_lexer": "ipython3",
   "version": "3.6.3"
  }
 },
 "nbformat": 4,
 "nbformat_minor": 2
}
