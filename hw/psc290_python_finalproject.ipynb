{
 "cells": [
  {
   "cell_type": "markdown",
   "metadata": {},
   "source": [
    "# Setup"
   ]
  },
  {
   "cell_type": "code",
   "execution_count": 1,
   "metadata": {
    "collapsed": true
   },
   "outputs": [],
   "source": [
    "# big screen setup\n",
    "# !jt -t solarizedl -cellw 1300 -fs 16 -dfs 16 -tfs 16 -ofs 16  -f consolamono"
   ]
  },
  {
   "cell_type": "code",
   "execution_count": 2,
   "metadata": {
    "collapsed": true
   },
   "outputs": [],
   "source": [
    "import pandas as pd\n",
    "import datetime\n",
    "import sys\n",
    "import os\n",
    "import numpy as np\n",
    "from textblob import TextBlob\n",
    "import nltk\n",
    "import re\n",
    "import matplotlib\n",
    "import matplotlib.pyplot as plt\n",
    "import gensim\n",
    "import nltk\n",
    "from nltk.tokenize import word_tokenize\n",
    "from nltk.stem import WordNetLemmatizer\n",
    "from nltk.corpus import wordnet\n",
    "import pprint\n",
    "import sklearn.feature_extraction\n",
    "from sklearn.feature_extraction.text import TfidfVectorizer\n",
    "from sklearn.cluster import KMeans\n",
    "from sklearn.metrics import adjusted_rand_score\n",
    "from sklearn.feature_extraction.text import CountVectorizer, TfidfTransformer\n",
    "from sklearn.decomposition import PCA"
   ]
  },
  {
   "cell_type": "markdown",
   "metadata": {},
   "source": [
    "# Import Data"
   ]
  },
  {
   "cell_type": "code",
   "execution_count": 3,
   "metadata": {
    "collapsed": true
   },
   "outputs": [],
   "source": [
    "df = pd.read_csv(\"sms_scan_exit_survey.csv\",keep_default_na=False) #leave blanks as blanks"
   ]
  },
  {
   "cell_type": "markdown",
   "metadata": {},
   "source": [
    "###  dates take the place of subject labels\n",
    "### Phrasing of question was changed after first six participants, much messier individual sequence responses for those first subjects, so I can either spend a bunch of time trying to organize that, ignore those subjects, or just ignore individual sequences and merge across questions"
   ]
  },
  {
   "cell_type": "code",
   "execution_count": 4,
   "metadata": {
    "collapsed": true
   },
   "outputs": [],
   "source": [
    "# rename columns\n",
    "df.columns = ['Subject','Q1','Q2','Q3','Q4','Q5','Q6','Q7']\n",
    "# change dates to subject labels\n",
    "df.Subject = range(len(df))\n",
    "# merge across questions, so all responses from each subject will be in one column\n",
    "df['merged'] =  df.iloc[:, 1:].sum(axis=1)"
   ]
  },
  {
   "cell_type": "code",
   "execution_count": 5,
   "metadata": {},
   "outputs": [
    {
     "data": {
      "text/html": [
       "<div>\n",
       "<style>\n",
       "    .dataframe thead tr:only-child th {\n",
       "        text-align: right;\n",
       "    }\n",
       "\n",
       "    .dataframe thead th {\n",
       "        text-align: left;\n",
       "    }\n",
       "\n",
       "    .dataframe tbody tr th {\n",
       "        vertical-align: top;\n",
       "    }\n",
       "</style>\n",
       "<table border=\"1\" class=\"dataframe\">\n",
       "  <thead>\n",
       "    <tr style=\"text-align: right;\">\n",
       "      <th></th>\n",
       "      <th>Subject</th>\n",
       "      <th>Q1</th>\n",
       "      <th>Q2</th>\n",
       "      <th>Q3</th>\n",
       "      <th>Q4</th>\n",
       "      <th>Q5</th>\n",
       "      <th>Q6</th>\n",
       "      <th>Q7</th>\n",
       "      <th>merged</th>\n",
       "    </tr>\n",
       "  </thead>\n",
       "  <tbody>\n",
       "    <tr>\n",
       "      <th>0</th>\n",
       "      <td>0</td>\n",
       "      <td></td>\n",
       "      <td></td>\n",
       "      <td>Yes, I thought of a singular event that the wo...</td>\n",
       "      <td>I didn't try to think of any similar events th...</td>\n",
       "      <td>No, they were more like short segments sewed t...</td>\n",
       "      <td></td>\n",
       "      <td></td>\n",
       "      <td>Yes, I thought of a singular event that the wo...</td>\n",
       "    </tr>\n",
       "    <tr>\n",
       "      <th>1</th>\n",
       "      <td>1</td>\n",
       "      <td></td>\n",
       "      <td></td>\n",
       "      <td>2/intact - no particular event\\n3/scrambled - ...</td>\n",
       "      <td>2/intact - yes very much, as this would be a c...</td>\n",
       "      <td>3/scrambled - no, this event in my head lasted...</td>\n",
       "      <td>No</td>\n",
       "      <td>No</td>\n",
       "      <td>2/intact - no particular event\\n3/scrambled - ...</td>\n",
       "    </tr>\n",
       "    <tr>\n",
       "      <th>2</th>\n",
       "      <td>2</td>\n",
       "      <td></td>\n",
       "      <td></td>\n",
       "      <td>2 scrambled no\\n3 random1 no\\n4 intact no\\n5 s...</td>\n",
       "      <td>2 scrambled yes\\n3 random1 no\\n4 intact no\\n5 ...</td>\n",
       "      <td>2 scrambled no\\n3 random1 yes\\n4 intact yes\\n5...</td>\n",
       "      <td>No problems.</td>\n",
       "      <td>I think that the problems I had were there on ...</td>\n",
       "      <td>2 scrambled no\\n3 random1 no\\n4 intact no\\n5 s...</td>\n",
       "    </tr>\n",
       "    <tr>\n",
       "      <th>3</th>\n",
       "      <td>3</td>\n",
       "      <td></td>\n",
       "      <td></td>\n",
       "      <td>no for all</td>\n",
       "      <td>yes for 2, 5, 6, 7, 9, 12, 13, 15 and no for t...</td>\n",
       "      <td>yes for 3, 4, 16 (kind of) and no for the rest</td>\n",
       "      <td></td>\n",
       "      <td>2, intact --  I realized that it was a basic d...</td>\n",
       "      <td>no for allyes for 2, 5, 6, 7, 9, 12, 13, 15 an...</td>\n",
       "    </tr>\n",
       "    <tr>\n",
       "      <th>4</th>\n",
       "      <td>4</td>\n",
       "      <td></td>\n",
       "      <td></td>\n",
       "      <td>intact - 2  - No   \\n\\nscramble - 3 -  Yes; I ...</td>\n",
       "      <td>intact - 2  -  Yes. I thought of my own experi...</td>\n",
       "      <td>intact - 2  -  No\\n\\nscramble - 3 -  No\\n\\nran...</td>\n",
       "      <td>No</td>\n",
       "      <td>No</td>\n",
       "      <td>intact - 2  - No   \\n\\nscramble - 3 -  Yes; I ...</td>\n",
       "    </tr>\n",
       "  </tbody>\n",
       "</table>\n",
       "</div>"
      ],
      "text/plain": [
       "   Subject Q1 Q2                                                 Q3  \\\n",
       "0        0        Yes, I thought of a singular event that the wo...   \n",
       "1        1        2/intact - no particular event\\n3/scrambled - ...   \n",
       "2        2        2 scrambled no\\n3 random1 no\\n4 intact no\\n5 s...   \n",
       "3        3                                               no for all   \n",
       "4        4        intact - 2  - No   \\n\\nscramble - 3 -  Yes; I ...   \n",
       "\n",
       "                                                  Q4  \\\n",
       "0  I didn't try to think of any similar events th...   \n",
       "1  2/intact - yes very much, as this would be a c...   \n",
       "2  2 scrambled yes\\n3 random1 no\\n4 intact no\\n5 ...   \n",
       "3  yes for 2, 5, 6, 7, 9, 12, 13, 15 and no for t...   \n",
       "4  intact - 2  -  Yes. I thought of my own experi...   \n",
       "\n",
       "                                                  Q5             Q6  \\\n",
       "0  No, they were more like short segments sewed t...                  \n",
       "1  3/scrambled - no, this event in my head lasted...             No   \n",
       "2  2 scrambled no\\n3 random1 yes\\n4 intact yes\\n5...  No problems.    \n",
       "3     yes for 3, 4, 16 (kind of) and no for the rest                  \n",
       "4  intact - 2  -  No\\n\\nscramble - 3 -  No\\n\\nran...             No   \n",
       "\n",
       "                                                  Q7  \\\n",
       "0                                                      \n",
       "1                                                 No   \n",
       "2  I think that the problems I had were there on ...   \n",
       "3  2, intact --  I realized that it was a basic d...   \n",
       "4                                                 No   \n",
       "\n",
       "                                              merged  \n",
       "0  Yes, I thought of a singular event that the wo...  \n",
       "1  2/intact - no particular event\\n3/scrambled - ...  \n",
       "2  2 scrambled no\\n3 random1 no\\n4 intact no\\n5 s...  \n",
       "3  no for allyes for 2, 5, 6, 7, 9, 12, 13, 15 an...  \n",
       "4  intact - 2  - No   \\n\\nscramble - 3 -  Yes; I ...  "
      ]
     },
     "execution_count": 5,
     "metadata": {},
     "output_type": "execute_result"
    }
   ],
   "source": [
    "df.head()"
   ]
  },
  {
   "cell_type": "markdown",
   "metadata": {},
   "source": [
    "# Cleanup Data"
   ]
  },
  {
   "cell_type": "code",
   "execution_count": 6,
   "metadata": {
    "collapsed": true
   },
   "outputs": [],
   "source": [
    "# make everything lowercase\n",
    "df['lowered'] = df.merged.apply(str.lower)\n",
    "# now remove condition labels for merged condition approach\n",
    "df['cleaned'] = {x.replace('intact', '').replace('scrambled', '').replace('random','') for x in df['lowered']}\n",
    "# remove all non-letter characters\n",
    "drop_this = re.compile('[^a-z ]', re.MULTILINE)\n",
    "df['cleaned'] = {drop_this.sub(' ', x) for x in df['cleaned']}\n",
    "# tokenize cleaned responses\n",
    "df['tok_merged'] = [word_tokenize(text) for text in df['cleaned']]\n",
    "\n",
    "# lemmatizer \n",
    "# lmtzr = WordNetLemmatizer()\n",
    "# this doesn't work for verbs, defaults to noun, needs to be passed the part of speech (POS)\n",
    "# df['cleaned'] = [[lmtzr.lemmatize(w) for w in word_tokenize(text)] \n",
    "#             for text in df['cleaned']]\n",
    "# tokenize with textblob instead\n",
    "# jk that needs POS too"
   ]
  },
  {
   "cell_type": "code",
   "execution_count": 7,
   "metadata": {
    "collapsed": true
   },
   "outputs": [],
   "source": [
    "# lemmatize with POS \n",
    "# copied almost verbatim from source: https://stackoverflow.com/questions/15586721/wordnet-lemmatization-and-pos-tagging-in-python\n",
    "class LemmatizationWithPOSTagger(object):\n",
    "    def __init__(self):\n",
    "        pass\n",
    "    def get_wordnet_pos(self,treebank_tag):\n",
    "        \"\"\"\n",
    "        return WORDNET POS compliance to WORDNET lemmatization (a,n,r,v) \n",
    "        \"\"\"\n",
    "        if treebank_tag.startswith('J'):\n",
    "            return wordnet.ADJ\n",
    "        elif treebank_tag.startswith('V'):\n",
    "            return wordnet.VERB\n",
    "        elif treebank_tag.startswith('N'):\n",
    "            return wordnet.NOUN\n",
    "        elif treebank_tag.startswith('R'):\n",
    "            return wordnet.ADV\n",
    "        else:\n",
    "            # As default pos in lemmatization is Noun\n",
    "            return wordnet.NOUN\n",
    "\n",
    "    def pos_tag(self,tokens):\n",
    "        # find the pos tagginf for each tokens [('What', 'WP'), ('can', 'MD'), ('I', 'PRP') ....\n",
    "#         pos_tokens = [nltk.pos_tag(token) for token in tokens]\n",
    "        pos_tokens = nltk.pos_tag(tokens)\n",
    "\n",
    "        # lemmatization using pos tag   \n",
    "        # convert into feature set of [('What', 'What', ['WP']), ('can', 'can', ['MD']), ... ie [original WORD, Lemmatized word, POS tag]\n",
    "#         pos_tokens = [ [(word, lemmatizer.lemmatize(word,self.get_wordnet_pos(pos_tag)), [pos_tag]) for (word,pos_tag) in pos] for pos in pos_tokens]\n",
    "        pos_tokens =[(word, lemmatizer.lemmatize(word,self.get_wordnet_pos(pos_tag)), [pos_tag]) for (word,pos_tag) in pos_tokens]\n",
    "        return pos_tokens"
   ]
  },
  {
   "cell_type": "code",
   "execution_count": 8,
   "metadata": {
    "collapsed": true
   },
   "outputs": [],
   "source": [
    "# no dilemma, lemme get them lemmas \n",
    "lemmatizer = WordNetLemmatizer()\n",
    "lmtz = LemmatizationWithPOSTagger()\n",
    "df['lemmified'] = df.tok_merged.apply(lmtz.pos_tag)"
   ]
  },
  {
   "cell_type": "code",
   "execution_count": 9,
   "metadata": {
    "scrolled": true
   },
   "outputs": [],
   "source": [
    "# create new column without stems and POS, just the root word, not all that -> ('What', 'What', ['WP'])\n",
    "def get_lems_only(toks):\n",
    "    out = [''.join(x[:][1]) for x in toks]\n",
    "    return out\n",
    "# apply the func \n",
    "df['lems_only'] = df.lemmified.apply(get_lems_only)\n",
    "# put all those lems back into a big chunk of text so that TfidfVectorizer will be happy later\n",
    "df['chunked_lems'] = df.lems_only.apply(' '.join)"
   ]
  },
  {
   "cell_type": "markdown",
   "metadata": {},
   "source": [
    "# Take a look"
   ]
  },
  {
   "cell_type": "code",
   "execution_count": 10,
   "metadata": {},
   "outputs": [
    {
     "name": "stdout",
     "output_type": "stream",
     "text": [
      "Mean # of tokens: 610.4166666666666\n"
     ]
    },
    {
     "data": {
      "image/png": "[encoded data removed]",
      "text/plain": [
       "<matplotlib.figure.Figure at 0x1a1aa7fda0>"
      ]
     },
     "metadata": {},
     "output_type": "display_data"
    }
   ],
   "source": [
    "# plot number of tokens by subject\n",
    "num_toks = df.tok_merged.apply(len)\n",
    "print('Mean # of tokens:' ,np.mean(num_toks))\n",
    "num_toks.plot(kind = 'bar')\n",
    "plt.show()\n",
    "# seems like a solid word count for almost all subjects"
   ]
  },
  {
   "cell_type": "markdown",
   "metadata": {},
   "source": [
    "# Look for between subject overall differences by building a tf-idf model from all subjects"
   ]
  },
  {
   "cell_type": "markdown",
   "metadata": {},
   "source": [
    "### I first tried gensim, but reached a dead end. It seems that this is more for building a corpus and then comparing new documents to the existing corpus"
   ]
  },
  {
   "cell_type": "code",
   "execution_count": 11,
   "metadata": {},
   "outputs": [
    {
     "data": {
      "text/plain": [
       "1320"
      ]
     },
     "execution_count": 11,
     "metadata": {},
     "output_type": "execute_result"
    }
   ],
   "source": [
    "# create dictionary\n",
    "dictionary = gensim.corpora.Dictionary(df['lems_only'])\n",
    "# see how many words in the dictionary\n",
    "len(dictionary)\n",
    "# I would have thought there would be more unique words... I guess that's good? "
   ]
  },
  {
   "cell_type": "code",
   "execution_count": 12,
   "metadata": {},
   "outputs": [
    {
     "name": "stdout",
     "output_type": "stream",
     "text": [
      "TfidfModel(num_docs=24, num_nnz=4863)\n"
     ]
    }
   ],
   "source": [
    "# create a bag-o-words corpus \n",
    "corpus = [dictionary.doc2bow(x) for x in df['lems_only']]\n",
    "# creat tf-idf model of the corpus\n",
    "tf_idf = gensim.models.TfidfModel(corpus)\n",
    "print(tf_idf)"
   ]
  },
  {
   "cell_type": "code",
   "execution_count": 13,
   "metadata": {},
   "outputs": [
    {
     "name": "stdout",
     "output_type": "stream",
     "text": [
      "Similarity index with 24 documents in 0 shards (stored under /Users/WBR/walter/python_psc290/hw)\n"
     ]
    }
   ],
   "source": [
    "# creat similarlity object with gensim\n",
    "# get path\n",
    "cwd = os.getcwd()\n",
    "sims = gensim.similarities.Similarity(cwd,tf_idf[corpus],\n",
    "                                      num_features=len(dictionary))\n",
    "print(sims)"
   ]
  },
  {
   "cell_type": "code",
   "execution_count": 14,
   "metadata": {
    "collapsed": true
   },
   "outputs": [],
   "source": [
    "# now create a query from one sub's responses by first bag of words-ing\n",
    "query_doc_bow = dictionary.doc2bow(df['lems_only'][1])\n",
    "# then index tf_idf weights\n",
    "query_doc_tf_idf = tf_idf[query_doc_bow]"
   ]
  },
  {
   "cell_type": "code",
   "execution_count": 15,
   "metadata": {
    "scrolled": true
   },
   "outputs": [
    {
     "data": {
      "text/plain": [
       "array([0.0733934 , 1.0000001 , 0.02996626, 0.18901065, 0.05149783,\n",
       "       0.09683118, 0.03914526, 0.04501569, 0.05086012, 0.05375629,\n",
       "       0.05838082, 0.06305377, 0.02190381, 0.38405618, 0.47268528,\n",
       "       0.05326027, 0.23946717, 0.07831775, 0.08091979, 0.07964218,\n",
       "       0.05693388, 0.09389637, 0.04261455, 0.03759111], dtype=float32)"
      ]
     },
     "execution_count": 15,
     "metadata": {},
     "output_type": "execute_result"
    }
   ],
   "source": [
    "sims[query_doc_tf_idf]"
   ]
  },
  {
   "cell_type": "markdown",
   "metadata": {},
   "source": [
    "### I could have done this query for each subject, then correlated the vectors, but then I found out I could this a lot more efficiently with TfidfVectorizer"
   ]
  },
  {
   "cell_type": "code",
   "execution_count": 16,
   "metadata": {},
   "outputs": [],
   "source": [
    "# instantiate the model\n",
    "vect = TfidfVectorizer(min_df=1, stop_words= 'english')\n",
    "# fit the model\n",
    "tfidf = vect.fit_transform(df['chunked_lems'])\n",
    "# get the sim\n",
    "pairwise_similarity = tfidf * tfidf.T\n",
    "# convert form sparse to dense format\n",
    "dense_pairsim = pairwise_similarity.todense()"
   ]
  },
  {
   "cell_type": "code",
   "execution_count": 17,
   "metadata": {},
   "outputs": [
    {
     "data": {
      "image/png": "[encoded data removed]",
      "text/plain": [
       "<matplotlib.figure.Figure at 0x1a1aaa7320>"
      ]
     },
     "metadata": {},
     "output_type": "display_data"
    }
   ],
   "source": [
    "# make a pretty matrix\n",
    "plt.imshow(dense_pairsim)\n",
    "plt.colorbar()\n",
    "plt.show()\n",
    "# cool, looks like there could be some interestnig relationships between subjects"
   ]
  },
  {
   "cell_type": "code",
   "execution_count": 24,
   "metadata": {},
   "outputs": [
    {
     "data": {
      "image/png": "[encoded data removed]",
      "text/plain": [
       "<matplotlib.figure.Figure at 0x1a1ac876a0>"
      ]
     },
     "metadata": {},
     "output_type": "display_data"
    }
   ],
   "source": [
    "# old plot. adding labels to points took an insane amount of frustration and time\n",
    "# plt.scatter(data2D[:,0], data2D[:,1])\n",
    "\n",
    "# fig, ax = plt.scatter(centers2D[:,0], centers2D[:,1]), \n",
    "#             marker='x', s=200, linewidths=3, c='r')\n",
    "# plt.show()\n",
    "\n",
    "# PCA and plot in 2d, looks like 3 clusters, so mark cluster center with an X \n",
    "# make tfidf matrix dense\n",
    "X = tfidf.todense()\n",
    "# kluster\n",
    "kmeans = KMeans(n_clusters=3).fit(X)\n",
    "# PCA\n",
    "pca = PCA(n_components=2).fit(X)\n",
    "# get kluster centers\n",
    "centers2D = pca.transform(kmeans.cluster_centers_)\n",
    "# squish to 2D\n",
    "data2D = pca.transform(X)\n",
    "# reformat for plotsake\n",
    "y = data2D[:,0].tolist()\n",
    "z = data2D[:,1].tolist()\n",
    "# initialize\n",
    "fig, ax = plt.subplots()\n",
    "ax.scatter(y,z)\n",
    "# add subject labels to scatter plot\n",
    "n =list(df.Subject)\n",
    "for i,txt in enumerate(n):\n",
    "    ax.annotate(txt, (y[i],z[i]))\n",
    "# add X's at cluster centers\n",
    "ax.scatter(centers2D[:,0], centers2D[:,1],marker='x', s=200, linewidths=3, c='r') \n",
    "plt.show(fig)"
   ]
  },
  {
   "cell_type": "code",
   "execution_count": 25,
   "metadata": {
    "collapsed": true
   },
   "outputs": [
    {
     "name": "stdout",
     "output_type": "stream",
     "text": [
      "Top terms per cluster:\n",
      "Cluster 0:\n",
      " sequence\n",
      " remember\n",
      " word\n",
      " order\n",
      " think\n",
      " event\n",
      " just\n",
      " make\n",
      " thought\n",
      " easy\n",
      "\n",
      "Cluster 1:\n",
      " yes\n",
      " thought\n",
      " continuous\n",
      " event\n",
      " generic\n",
      " related\n",
      " verbal\n",
      " think\n",
      " pleasant\n",
      " experience\n",
      "\n",
      "Cluster 2:\n",
      " scramble\n",
      " remember\n",
      " order\n",
      " yes\n",
      " try\n",
      " verb\n",
      " create\n",
      " make\n",
      " picture\n",
      " event\n",
      "\n"
     ]
    }
   ],
   "source": [
    "# print top terms from the kmeans clusters\n",
    "print(\"Top terms per cluster:\")\n",
    "order_centroids = kmeans.cluster_centers_.argsort()[:, ::-1]\n",
    "terms = vect.get_feature_names()\n",
    "for i in range(3):\n",
    "    print(\"Cluster %d:\" % i,)\n",
    "    for ind in order_centroids[i, :10]:\n",
    "        print(' %s' % terms[ind]),\n",
    "    print()"
   ]
  }
 ],
 "metadata": {
  "kernelspec": {
   "display_name": "Python 3",
   "language": "python",
   "name": "python3"
  },
  "language_info": {
   "codemirror_mode": {
    "name": "ipython",
    "version": 3
   },
   "file_extension": ".py",
   "mimetype": "text/x-python",
   "name": "python",
   "nbconvert_exporter": "python",
   "pygments_lexer": "ipython3",
   "version": "3.6.3"
  }
 },
 "nbformat": 4,
 "nbformat_minor": 2
}
