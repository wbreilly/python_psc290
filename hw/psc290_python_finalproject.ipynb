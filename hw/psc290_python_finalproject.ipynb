{
 "cells": [
  {
   "cell_type": "markdown",
   "metadata": {},
   "source": [
    "# Setup"
   ]
  },
  {
   "cell_type": "code",
   "execution_count": 1,
   "metadata": {
    "collapsed": true
   },
   "outputs": [],
   "source": [
    "import pandas as pd\n",
    "import datetime\n",
    "from wordcloud import WordCloud, STOPWORDS \n",
    "import sys\n",
    "from os import path\n",
    "import numpy as np\n",
    "from PIL import Image\n",
    "from textblob import TextBlob\n",
    "import nltk\n",
    "import re\n",
    "import matplotlib\n",
    "import matplotlib.pyplot as plt"
   ]
  },
  {
   "cell_type": "markdown",
   "metadata": {},
   "source": [
    "# Import Data"
   ]
  },
  {
   "cell_type": "code",
   "execution_count": 41,
   "metadata": {
    "collapsed": true
   },
   "outputs": [],
   "source": [
    "df = pd.read_csv(\"sms_scan_exit_survey.csv\",keep_default_na=False) #leave blanks as blanks"
   ]
  },
  {
   "cell_type": "markdown",
   "metadata": {},
   "source": [
    "###  dates take the place of subject labels\n",
    "### Phrasing of question was changed after first six participants, much messier individual sequence responses for those first subjects, so I can either spend a bunch of time trying to organize that, or ignore those subjects, or just ignore individual sequences and merge across questions"
   ]
  },
  {
   "cell_type": "code",
   "execution_count": 45,
   "metadata": {
    "collapsed": true
   },
   "outputs": [
    {
     "data": {
      "text/html": [
       "<div>\n",
       "<style>\n",
       "    .dataframe thead tr:only-child th {\n",
       "        text-align: right;\n",
       "    }\n",
       "\n",
       "    .dataframe thead th {\n",
       "        text-align: left;\n",
       "    }\n",
       "\n",
       "    .dataframe tbody tr th {\n",
       "        vertical-align: top;\n",
       "    }\n",
       "</style>\n",
       "<table border=\"1\" class=\"dataframe\">\n",
       "  <thead>\n",
       "    <tr style=\"text-align: right;\">\n",
       "      <th></th>\n",
       "      <th>Subject</th>\n",
       "      <th>Q1</th>\n",
       "      <th>Q2</th>\n",
       "      <th>Q3</th>\n",
       "      <th>Q4</th>\n",
       "      <th>Q5</th>\n",
       "      <th>Q6</th>\n",
       "      <th>Q7</th>\n",
       "    </tr>\n",
       "  </thead>\n",
       "  <tbody>\n",
       "    <tr>\n",
       "      <th>0</th>\n",
       "      <td>2017/07/26 2:14:42 PM MDT</td>\n",
       "      <td></td>\n",
       "      <td></td>\n",
       "      <td>Yes, I thought of a singular event that the wo...</td>\n",
       "      <td>I didn't try to think of any similar events th...</td>\n",
       "      <td>No, they were more like short segments sewed t...</td>\n",
       "      <td></td>\n",
       "      <td></td>\n",
       "    </tr>\n",
       "    <tr>\n",
       "      <th>1</th>\n",
       "      <td>2017/07/28 12:50:17 PM MDT</td>\n",
       "      <td></td>\n",
       "      <td></td>\n",
       "      <td>2/intact - no particular event\\n3/scrambled - ...</td>\n",
       "      <td>2/intact - yes very much, as this would be a c...</td>\n",
       "      <td>3/scrambled - no, this event in my head lasted...</td>\n",
       "      <td>No</td>\n",
       "      <td>No</td>\n",
       "    </tr>\n",
       "    <tr>\n",
       "      <th>2</th>\n",
       "      <td>2017/08/02 10:58:33 AM MDT</td>\n",
       "      <td></td>\n",
       "      <td></td>\n",
       "      <td>2 scrambled no\\n3 random1 no\\n4 intact no\\n5 s...</td>\n",
       "      <td>2 scrambled yes\\n3 random1 no\\n4 intact no\\n5 ...</td>\n",
       "      <td>2 scrambled no\\n3 random1 yes\\n4 intact yes\\n5...</td>\n",
       "      <td>No problems.</td>\n",
       "      <td>I think that the problems I had were there on ...</td>\n",
       "    </tr>\n",
       "    <tr>\n",
       "      <th>3</th>\n",
       "      <td>2017/08/24 2:48:51 PM MDT</td>\n",
       "      <td></td>\n",
       "      <td></td>\n",
       "      <td>no for all</td>\n",
       "      <td>yes for 2, 5, 6, 7, 9, 12, 13, 15 and no for t...</td>\n",
       "      <td>yes for 3, 4, 16 (kind of) and no for the rest</td>\n",
       "      <td></td>\n",
       "      <td>2, intact --  I realized that it was a basic d...</td>\n",
       "    </tr>\n",
       "    <tr>\n",
       "      <th>4</th>\n",
       "      <td>2017/08/30 2:45:52 PM MDT</td>\n",
       "      <td></td>\n",
       "      <td></td>\n",
       "      <td>intact - 2  - No   \\n\\nscramble - 3 -  Yes; I ...</td>\n",
       "      <td>intact - 2  -  Yes. I thought of my own experi...</td>\n",
       "      <td>intact - 2  -  No\\n\\nscramble - 3 -  No\\n\\nran...</td>\n",
       "      <td>No</td>\n",
       "      <td>No</td>\n",
       "    </tr>\n",
       "  </tbody>\n",
       "</table>\n",
       "</div>"
      ],
      "text/plain": [
       "                      Subject Q1 Q2  \\\n",
       "0   2017/07/26 2:14:42 PM MDT         \n",
       "1  2017/07/28 12:50:17 PM MDT         \n",
       "2  2017/08/02 10:58:33 AM MDT         \n",
       "3   2017/08/24 2:48:51 PM MDT         \n",
       "4   2017/08/30 2:45:52 PM MDT         \n",
       "\n",
       "                                                  Q3  \\\n",
       "0  Yes, I thought of a singular event that the wo...   \n",
       "1  2/intact - no particular event\\n3/scrambled - ...   \n",
       "2  2 scrambled no\\n3 random1 no\\n4 intact no\\n5 s...   \n",
       "3                                         no for all   \n",
       "4  intact - 2  - No   \\n\\nscramble - 3 -  Yes; I ...   \n",
       "\n",
       "                                                  Q4  \\\n",
       "0  I didn't try to think of any similar events th...   \n",
       "1  2/intact - yes very much, as this would be a c...   \n",
       "2  2 scrambled yes\\n3 random1 no\\n4 intact no\\n5 ...   \n",
       "3  yes for 2, 5, 6, 7, 9, 12, 13, 15 and no for t...   \n",
       "4  intact - 2  -  Yes. I thought of my own experi...   \n",
       "\n",
       "                                                  Q5             Q6  \\\n",
       "0  No, they were more like short segments sewed t...                  \n",
       "1  3/scrambled - no, this event in my head lasted...             No   \n",
       "2  2 scrambled no\\n3 random1 yes\\n4 intact yes\\n5...  No problems.    \n",
       "3     yes for 3, 4, 16 (kind of) and no for the rest                  \n",
       "4  intact - 2  -  No\\n\\nscramble - 3 -  No\\n\\nran...             No   \n",
       "\n",
       "                                                  Q7  \n",
       "0                                                     \n",
       "1                                                 No  \n",
       "2  I think that the problems I had were there on ...  \n",
       "3  2, intact --  I realized that it was a basic d...  \n",
       "4                                                 No  "
      ]
     },
     "execution_count": 45,
     "metadata": {},
     "output_type": "execute_result"
    }
   ],
   "source": [
    "df.head()"
   ]
  },
  {
   "cell_type": "code",
   "execution_count": 51,
   "metadata": {},
   "outputs": [],
   "source": [
    "# rename columns\n",
    "df.columns = ['Subject','Q1','Q2','Q3','Q4','Q5','Q6','Q7']\n",
    "# merge across questions, so all responses from each subject will be in one column\n",
    "df['merged'] =  df.iloc[:, 1:].sum(axis=1)"
   ]
  },
  {
   "cell_type": "markdown",
   "metadata": {},
   "source": [
    "# Look for between subject overall differences"
   ]
  },
  {
   "cell_type": "code",
   "execution_count": null,
   "metadata": {
    "collapsed": true
   },
   "outputs": [],
   "source": []
  },
  {
   "cell_type": "code",
   "execution_count": null,
   "metadata": {
    "collapsed": true
   },
   "outputs": [],
   "source": []
  },
  {
   "cell_type": "code",
   "execution_count": null,
   "metadata": {
    "collapsed": true
   },
   "outputs": [],
   "source": []
  }
 ],
 "metadata": {
  "kernelspec": {
   "display_name": "Python 3",
   "language": "python",
   "name": "python3"
  },
  "language_info": {
   "codemirror_mode": {
    "name": "ipython",
    "version": 3
   },
   "file_extension": ".py",
   "mimetype": "text/x-python",
   "name": "python",
   "nbconvert_exporter": "python",
   "pygments_lexer": "ipython3",
   "version": "3.6.3"
  }
 },
 "nbformat": 4,
 "nbformat_minor": 2
}
