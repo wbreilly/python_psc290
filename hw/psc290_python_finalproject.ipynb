{
 "cells": [
  {
   "cell_type": "markdown",
   "metadata": {},
   "source": [
    "# Setup"
   ]
  },
  {
   "cell_type": "code",
   "execution_count": 75,
   "metadata": {},
   "outputs": [],
   "source": [
    "import pandas as pd\n",
    "import datetime\n",
    "from wordcloud import WordCloud, STOPWORDS \n",
    "import sys\n",
    "import os\n",
    "import numpy as np\n",
    "from PIL import Image\n",
    "from textblob import TextBlob\n",
    "import nltk\n",
    "import re\n",
    "import matplotlib\n",
    "import matplotlib.pyplot as plt\n",
    "import gensim\n",
    "from nltk.tokenize import word_tokenize"
   ]
  },
  {
   "cell_type": "markdown",
   "metadata": {},
   "source": [
    "# Import Data"
   ]
  },
  {
   "cell_type": "code",
   "execution_count": 8,
   "metadata": {
    "collapsed": true
   },
   "outputs": [],
   "source": [
    "df = pd.read_csv(\"sms_scan_exit_survey.csv\",keep_default_na=False) #leave blanks as blanks"
   ]
  },
  {
   "cell_type": "markdown",
   "metadata": {},
   "source": [
    "###  dates take the place of subject labels\n",
    "### Phrasing of question was changed after first six participants, much messier individual sequence responses for those first subjects, so I can either spend a bunch of time trying to organize that, or ignore those subjects, or just ignore individual sequences and merge across questions"
   ]
  },
  {
   "cell_type": "code",
   "execution_count": 9,
   "metadata": {
    "collapsed": true
   },
   "outputs": [
    {
     "data": {
      "text/html": [
       "<div>\n",
       "<style>\n",
       "    .dataframe thead tr:only-child th {\n",
       "        text-align: right;\n",
       "    }\n",
       "\n",
       "    .dataframe thead th {\n",
       "        text-align: left;\n",
       "    }\n",
       "\n",
       "    .dataframe tbody tr th {\n",
       "        vertical-align: top;\n",
       "    }\n",
       "</style>\n",
       "<table border=\"1\" class=\"dataframe\">\n",
       "  <thead>\n",
       "    <tr style=\"text-align: right;\">\n",
       "      <th></th>\n",
       "      <th>Timestamp</th>\n",
       "      <th>1. For each sequence, please characterize the strategies you used to remember the verbs.</th>\n",
       "      <th>2. Did you use verbal knowledge or experience (an event) to remember each sequence?</th>\n",
       "      <th>3. In general, while making your responses, did you think of a singular event that occurred once at a particular time and place?</th>\n",
       "      <th>4. In general, while making your responses, did you think of a summary or merging of many similar or related events?</th>\n",
       "      <th>5. In general, while making your responses, did you think of a continuous event that occurred over an  extended period of time lasting more than one day?</th>\n",
       "      <th>Unnamed: 6</th>\n",
       "      <th>Unnamed: 7</th>\n",
       "    </tr>\n",
       "  </thead>\n",
       "  <tbody>\n",
       "    <tr>\n",
       "      <th>0</th>\n",
       "      <td>2017/07/26 2:14:42 PM MDT</td>\n",
       "      <td></td>\n",
       "      <td></td>\n",
       "      <td>Yes, I thought of a singular event that the wo...</td>\n",
       "      <td>I didn't try to think of any similar events th...</td>\n",
       "      <td>No, they were more like short segments sewed t...</td>\n",
       "      <td></td>\n",
       "      <td></td>\n",
       "    </tr>\n",
       "    <tr>\n",
       "      <th>1</th>\n",
       "      <td>2017/07/28 12:50:17 PM MDT</td>\n",
       "      <td></td>\n",
       "      <td></td>\n",
       "      <td>2/intact - no particular event\\n3/scrambled - ...</td>\n",
       "      <td>2/intact - yes very much, as this would be a c...</td>\n",
       "      <td>3/scrambled - no, this event in my head lasted...</td>\n",
       "      <td>No</td>\n",
       "      <td>No</td>\n",
       "    </tr>\n",
       "    <tr>\n",
       "      <th>2</th>\n",
       "      <td>2017/08/02 10:58:33 AM MDT</td>\n",
       "      <td></td>\n",
       "      <td></td>\n",
       "      <td>2 scrambled no\\n3 random1 no\\n4 intact no\\n5 s...</td>\n",
       "      <td>2 scrambled yes\\n3 random1 no\\n4 intact no\\n5 ...</td>\n",
       "      <td>2 scrambled no\\n3 random1 yes\\n4 intact yes\\n5...</td>\n",
       "      <td>No problems.</td>\n",
       "      <td>I think that the problems I had were there on ...</td>\n",
       "    </tr>\n",
       "    <tr>\n",
       "      <th>3</th>\n",
       "      <td>2017/08/24 2:48:51 PM MDT</td>\n",
       "      <td></td>\n",
       "      <td></td>\n",
       "      <td>no for all</td>\n",
       "      <td>yes for 2, 5, 6, 7, 9, 12, 13, 15 and no for t...</td>\n",
       "      <td>yes for 3, 4, 16 (kind of) and no for the rest</td>\n",
       "      <td></td>\n",
       "      <td>2, intact --  I realized that it was a basic d...</td>\n",
       "    </tr>\n",
       "    <tr>\n",
       "      <th>4</th>\n",
       "      <td>2017/08/30 2:45:52 PM MDT</td>\n",
       "      <td></td>\n",
       "      <td></td>\n",
       "      <td>intact - 2  - No   \\n\\nscramble - 3 -  Yes; I ...</td>\n",
       "      <td>intact - 2  -  Yes. I thought of my own experi...</td>\n",
       "      <td>intact - 2  -  No\\n\\nscramble - 3 -  No\\n\\nran...</td>\n",
       "      <td>No</td>\n",
       "      <td>No</td>\n",
       "    </tr>\n",
       "  </tbody>\n",
       "</table>\n",
       "</div>"
      ],
      "text/plain": [
       "                    Timestamp  \\\n",
       "0   2017/07/26 2:14:42 PM MDT   \n",
       "1  2017/07/28 12:50:17 PM MDT   \n",
       "2  2017/08/02 10:58:33 AM MDT   \n",
       "3   2017/08/24 2:48:51 PM MDT   \n",
       "4   2017/08/30 2:45:52 PM MDT   \n",
       "\n",
       "  1. For each sequence, please characterize the strategies you used to remember the verbs.  \\\n",
       "0                                                                                            \n",
       "1                                                                                            \n",
       "2                                                                                            \n",
       "3                                                                                            \n",
       "4                                                                                            \n",
       "\n",
       "  2. Did you use verbal knowledge or experience (an event) to remember each sequence?   \\\n",
       "0                                                                                        \n",
       "1                                                                                        \n",
       "2                                                                                        \n",
       "3                                                                                        \n",
       "4                                                                                        \n",
       "\n",
       "  3. In general, while making your responses, did you think of a singular event that occurred once at a particular time and place?  \\\n",
       "0  Yes, I thought of a singular event that the wo...                                                                                 \n",
       "1  2/intact - no particular event\\n3/scrambled - ...                                                                                 \n",
       "2  2 scrambled no\\n3 random1 no\\n4 intact no\\n5 s...                                                                                 \n",
       "3                                         no for all                                                                                 \n",
       "4  intact - 2  - No   \\n\\nscramble - 3 -  Yes; I ...                                                                                 \n",
       "\n",
       "  4. In general, while making your responses, did you think of a summary or merging of many similar or related events?  \\\n",
       "0  I didn't try to think of any similar events th...                                                                     \n",
       "1  2/intact - yes very much, as this would be a c...                                                                     \n",
       "2  2 scrambled yes\\n3 random1 no\\n4 intact no\\n5 ...                                                                     \n",
       "3  yes for 2, 5, 6, 7, 9, 12, 13, 15 and no for t...                                                                     \n",
       "4  intact - 2  -  Yes. I thought of my own experi...                                                                     \n",
       "\n",
       "  5. In general, while making your responses, did you think of a continuous event that occurred over an  extended period of time lasting more than one day?   \\\n",
       "0  No, they were more like short segments sewed t...                                                                                                           \n",
       "1  3/scrambled - no, this event in my head lasted...                                                                                                           \n",
       "2  2 scrambled no\\n3 random1 yes\\n4 intact yes\\n5...                                                                                                           \n",
       "3     yes for 3, 4, 16 (kind of) and no for the rest                                                                                                           \n",
       "4  intact - 2  -  No\\n\\nscramble - 3 -  No\\n\\nran...                                                                                                           \n",
       "\n",
       "      Unnamed: 6                                         Unnamed: 7  \n",
       "0                                                                    \n",
       "1             No                                                 No  \n",
       "2  No problems.   I think that the problems I had were there on ...  \n",
       "3                 2, intact --  I realized that it was a basic d...  \n",
       "4             No                                                 No  "
      ]
     },
     "execution_count": 9,
     "metadata": {},
     "output_type": "execute_result"
    }
   ],
   "source": [
    "df.head()"
   ]
  },
  {
   "cell_type": "code",
   "execution_count": 10,
   "metadata": {
    "collapsed": true
   },
   "outputs": [],
   "source": [
    "# rename columns\n",
    "df.columns = ['Subject','Q1','Q2','Q3','Q4','Q5','Q6','Q7']\n",
    "# merge across questions, so all responses from each subject will be in one column\n",
    "df['merged'] =  df.iloc[:, 1:].sum(axis=1)"
   ]
  },
  {
   "cell_type": "markdown",
   "metadata": {},
   "source": [
    "# Look for between subject overall differences by building a tf-idf model from all subjects"
   ]
  },
  {
   "cell_type": "code",
   "execution_count": 21,
   "metadata": {},
   "outputs": [],
   "source": [
    "# tokenize merged responses\n",
    "df['tok_merged'] = [[w.lower() for w in word_tokenize(text)] \n",
    "            for text in df['merged']]"
   ]
  },
  {
   "cell_type": "code",
   "execution_count": 63,
   "metadata": {},
   "outputs": [
    {
     "name": "stdout",
     "output_type": "stream",
     "text": [
      "Mean # of tokens: 18467\n"
     ]
    },
    {
     "data": {
      "image/png": "[encoded data removed]",
      "text/plain": [
       "<matplotlib.figure.Figure at 0x1a2079fac8>"
      ]
     },
     "metadata": {},
     "output_type": "display_data"
    }
   ],
   "source": [
    "# plot number of tokens by subject\n",
    "num_toks = df.tok_merged.apply(len)\n",
    "print('Mean # of tokens:' ,np.sum(num_toks))\n",
    "num_toks.plot(kind = 'bar')\n",
    "plt.show()"
   ]
  },
  {
   "cell_type": "code",
   "execution_count": 51,
   "metadata": {},
   "outputs": [
    {
     "data": {
      "text/plain": [
       "1847"
      ]
     },
     "execution_count": 51,
     "metadata": {},
     "output_type": "execute_result"
    }
   ],
   "source": [
    "# create dictionary\n",
    "dictionary = gensim.corpora.Dictionary(df['tok_merged'])\n",
    "# see how many words in the dictionary\n",
    "len(dictionary)\n",
    "# I would have thought there would be more unique words... I guess that's good? "
   ]
  },
  {
   "cell_type": "code",
   "execution_count": 62,
   "metadata": {},
   "outputs": [
    {
     "name": "stdout",
     "output_type": "stream",
     "text": [
      "TfidfModel(num_docs=24, num_nnz=6034)\n"
     ]
    }
   ],
   "source": [
    "# create a corpus \n",
    "corpus = [dictionary.doc2bow(x) for x in df['tok_merged']]\n",
    "# creat tf-idf model of the corpus\n",
    "tf_idf = gensim.models.TfidfModel(corpus)\n",
    "print(tf_idf)"
   ]
  },
  {
   "cell_type": "code",
   "execution_count": 76,
   "metadata": {},
   "outputs": [
    {
     "name": "stdout",
     "output_type": "stream",
     "text": [
      "Similarity index with 24 documents in 0 shards (stored under /Users/wbr/walter/python_psc290/hw)\n"
     ]
    }
   ],
   "source": [
    "# creat similarlity object with gensim\n",
    "# get path\n",
    "cwd = os.getcwd()\n",
    "sims = gensim.similarities.Similarity(cwd,tf_idf[corpus],\n",
    "                                      num_features=len(dictionary))\n",
    "print(sims)"
   ]
  },
  {
   "cell_type": "code",
   "execution_count": 82,
   "metadata": {},
   "outputs": [],
   "source": [
    "# now create a query from one sub's responses by first bag of words-ing\n",
    "query_doc_bow = dictionary.doc2bow(df['tok_merged'][1])\n",
    "# then index tf_idf weights\n",
    "query_doc_tf_idf = tf_idf[query_doc_bow]"
   ]
  },
  {
   "cell_type": "code",
   "execution_count": 83,
   "metadata": {},
   "outputs": [
    {
     "data": {
      "text/plain": [
       "array([ 0.04068984,  1.00000024,  0.15550756,  0.02335448,  0.11137828,\n",
       "        0.05439073,  0.06243492,  0.05343318,  0.16747609,  0.14928679,\n",
       "        0.06551225,  0.03037687,  0.00508134,  0.04148054,  0.05474997,\n",
       "        0.0772889 ,  0.02482655,  0.02682976,  0.034339  ,  0.02597768,\n",
       "        0.06060001,  0.02821321,  0.03432068,  0.05014485], dtype=float32)"
      ]
     },
     "execution_count": 83,
     "metadata": {},
     "output_type": "execute_result"
    }
   ],
   "source": [
    "sims[query_doc_tf_idf]"
   ]
  },
  {
   "cell_type": "code",
   "execution_count": null,
   "metadata": {
    "collapsed": true
   },
   "outputs": [],
   "source": []
  }
 ],
 "metadata": {
  "kernelspec": {
   "display_name": "Python 3",
   "language": "python",
   "name": "python3"
  },
  "language_info": {
   "codemirror_mode": {
    "name": "ipython",
    "version": 3
   },
   "file_extension": ".py",
   "mimetype": "text/x-python",
   "name": "python",
   "nbconvert_exporter": "python",
   "pygments_lexer": "ipython3",
   "version": "3.6.3"
  }
 },
 "nbformat": 4,
 "nbformat_minor": 2
}
