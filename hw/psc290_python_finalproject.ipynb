{
 "cells": [
  {
   "cell_type": "markdown",
   "metadata": {},
   "source": [
    "# Setup"
   ]
  },
  {
   "cell_type": "code",
   "execution_count": 1,
   "metadata": {
    "collapsed": true
   },
   "outputs": [],
   "source": [
    "# big screen setup\n",
    "# !jt -t solarizedl -cellw 1300 -fs 16 -dfs 16 -tfs 16 -ofs 16  -f consolamono"
   ]
  },
  {
   "cell_type": "code",
   "execution_count": 2,
   "metadata": {
    "collapsed": true
   },
   "outputs": [
    {
     "name": "stderr",
     "output_type": "stream",
     "text": [
      "/Users/wbr/anaconda3/lib/python3.6/site-packages/sklearn/utils/deprecation.py:144: FutureWarning: The sklearn.metrics.classification module is  deprecated in version 0.22 and will be removed in version 0.24. The corresponding classes / functions should instead be imported from sklearn.metrics. Anything that cannot be imported from sklearn.metrics is now part of the private API.\n",
      "  warnings.warn(message, FutureWarning)\n",
      "/Users/wbr/anaconda3/lib/python3.6/site-packages/sklearn/externals/joblib/__init__.py:15: FutureWarning: sklearn.externals.joblib is deprecated in 0.21 and will be removed in 0.23. Please import this functionality directly from joblib, which can be installed with: pip install joblib. If this warning is raised when loading pickled models, you may need to re-serialize those models with scikit-learn 0.21+.\n",
      "  warnings.warn(msg, category=FutureWarning)\n"
     ]
    }
   ],
   "source": [
    "import pandas as pd\n",
    "import datetime\n",
    "import sys\n",
    "import os\n",
    "import numpy as np\n",
    "from textblob import TextBlob\n",
    "import nltk\n",
    "import re\n",
    "import matplotlib\n",
    "import matplotlib.pyplot as plt\n",
    "import gensim\n",
    "import nltk\n",
    "from nltk.tokenize import word_tokenize\n",
    "from nltk.stem import WordNetLemmatizer\n",
    "from nltk.corpus import wordnet\n",
    "import pprint\n",
    "import sklearn.feature_extraction\n",
    "from sklearn.feature_extraction.text import TfidfVectorizer\n",
    "from sklearn.cluster import KMeans\n",
    "from sklearn.metrics import adjusted_rand_score\n",
    "from sklearn.feature_extraction.text import CountVectorizer, TfidfTransformer\n",
    "from sklearn.decomposition import PCA\n",
    "from yellowbrick.text import UMAPVisualizer"
   ]
  },
  {
   "cell_type": "markdown",
   "metadata": {},
   "source": [
    "# Import Data"
   ]
  },
  {
   "cell_type": "code",
   "execution_count": 142,
   "metadata": {
    "collapsed": true
   },
   "outputs": [],
   "source": [
    "df = pd.read_csv(\"sms_scan_exit_survey.csv\",keep_default_na=False) #leave blanks as blanks"
   ]
  },
  {
   "cell_type": "markdown",
   "metadata": {},
   "source": [
    "###  dates take the place of subject labels\n",
    "### Phrasing of question was changed after first six participants, much messier individual sequence responses for those first subjects, so I can either spend a bunch of time trying to organize that, ignore those subjects, or just ignore individual sequences and merge across questions"
   ]
  },
  {
   "cell_type": "code",
   "execution_count": 143,
   "metadata": {
    "collapsed": true
   },
   "outputs": [],
   "source": [
    "# rename columns\n",
    "df.columns = ['Subject','Q1','Q2','Q3','Q4','Q5','Q6','Q7']\n",
    "# change dates to subject labels\n",
    "df.Subject = range(len(df))\n",
    "# merge across questions, so all responses from each subject will be in one column\n",
    "df['merged'] =  df.iloc[:, 1:].sum(axis=1)"
   ]
  },
  {
   "cell_type": "code",
   "execution_count": 144,
   "metadata": {
    "scrolled": true
   },
   "outputs": [
    {
     "data": {
      "text/html": [
       "<div>\n",
       "<style>\n",
       "    .dataframe thead tr:only-child th {\n",
       "        text-align: right;\n",
       "    }\n",
       "\n",
       "    .dataframe thead th {\n",
       "        text-align: left;\n",
       "    }\n",
       "\n",
       "    .dataframe tbody tr th {\n",
       "        vertical-align: top;\n",
       "    }\n",
       "</style>\n",
       "<table border=\"1\" class=\"dataframe\">\n",
       "  <thead>\n",
       "    <tr style=\"text-align: right;\">\n",
       "      <th></th>\n",
       "      <th>Subject</th>\n",
       "      <th>Q1</th>\n",
       "      <th>Q2</th>\n",
       "      <th>Q3</th>\n",
       "      <th>Q4</th>\n",
       "      <th>Q5</th>\n",
       "      <th>Q6</th>\n",
       "      <th>Q7</th>\n",
       "      <th>merged</th>\n",
       "    </tr>\n",
       "  </thead>\n",
       "  <tbody>\n",
       "    <tr>\n",
       "      <th>0</th>\n",
       "      <td>0</td>\n",
       "      <td></td>\n",
       "      <td></td>\n",
       "      <td>Yes, I thought of a singular event that the wo...</td>\n",
       "      <td>I didn't try to think of any similar events th...</td>\n",
       "      <td>No, they were more like short segments sewed t...</td>\n",
       "      <td></td>\n",
       "      <td></td>\n",
       "      <td>Yes, I thought of a singular event that the wo...</td>\n",
       "    </tr>\n",
       "    <tr>\n",
       "      <th>1</th>\n",
       "      <td>1</td>\n",
       "      <td></td>\n",
       "      <td></td>\n",
       "      <td>2/intact - no particular event\\n3/scrambled - ...</td>\n",
       "      <td>2/intact - yes very much, as this would be a c...</td>\n",
       "      <td>3/scrambled - no, this event in my head lasted...</td>\n",
       "      <td>No</td>\n",
       "      <td>No</td>\n",
       "      <td>2/intact - no particular event\\n3/scrambled - ...</td>\n",
       "    </tr>\n",
       "    <tr>\n",
       "      <th>2</th>\n",
       "      <td>2</td>\n",
       "      <td></td>\n",
       "      <td></td>\n",
       "      <td>2 scrambled no\\n3 random1 no\\n4 intact no\\n5 s...</td>\n",
       "      <td>2 scrambled yes\\n3 random1 no\\n4 intact no\\n5 ...</td>\n",
       "      <td>2 scrambled no\\n3 random1 yes\\n4 intact yes\\n5...</td>\n",
       "      <td>No problems.</td>\n",
       "      <td>I think that the problems I had were there on ...</td>\n",
       "      <td>2 scrambled no\\n3 random1 no\\n4 intact no\\n5 s...</td>\n",
       "    </tr>\n",
       "    <tr>\n",
       "      <th>3</th>\n",
       "      <td>3</td>\n",
       "      <td></td>\n",
       "      <td></td>\n",
       "      <td>no for all</td>\n",
       "      <td>yes for 2, 5, 6, 7, 9, 12, 13, 15 and no for t...</td>\n",
       "      <td>yes for 3, 4, 16 (kind of) and no for the rest</td>\n",
       "      <td></td>\n",
       "      <td>2, intact --  I realized that it was a basic d...</td>\n",
       "      <td>no for allyes for 2, 5, 6, 7, 9, 12, 13, 15 an...</td>\n",
       "    </tr>\n",
       "    <tr>\n",
       "      <th>4</th>\n",
       "      <td>4</td>\n",
       "      <td></td>\n",
       "      <td></td>\n",
       "      <td>intact - 2  - No   \\n\\nscramble - 3 -  Yes; I ...</td>\n",
       "      <td>intact - 2  -  Yes. I thought of my own experi...</td>\n",
       "      <td>intact - 2  -  No\\n\\nscramble - 3 -  No\\n\\nran...</td>\n",
       "      <td>No</td>\n",
       "      <td>No</td>\n",
       "      <td>intact - 2  - No   \\n\\nscramble - 3 -  Yes; I ...</td>\n",
       "    </tr>\n",
       "  </tbody>\n",
       "</table>\n",
       "</div>"
      ],
      "text/plain": [
       "   Subject Q1 Q2                                                 Q3  \\\n",
       "0        0        Yes, I thought of a singular event that the wo...   \n",
       "1        1        2/intact - no particular event\\n3/scrambled - ...   \n",
       "2        2        2 scrambled no\\n3 random1 no\\n4 intact no\\n5 s...   \n",
       "3        3                                               no for all   \n",
       "4        4        intact - 2  - No   \\n\\nscramble - 3 -  Yes; I ...   \n",
       "\n",
       "                                                  Q4  \\\n",
       "0  I didn't try to think of any similar events th...   \n",
       "1  2/intact - yes very much, as this would be a c...   \n",
       "2  2 scrambled yes\\n3 random1 no\\n4 intact no\\n5 ...   \n",
       "3  yes for 2, 5, 6, 7, 9, 12, 13, 15 and no for t...   \n",
       "4  intact - 2  -  Yes. I thought of my own experi...   \n",
       "\n",
       "                                                  Q5             Q6  \\\n",
       "0  No, they were more like short segments sewed t...                  \n",
       "1  3/scrambled - no, this event in my head lasted...             No   \n",
       "2  2 scrambled no\\n3 random1 yes\\n4 intact yes\\n5...  No problems.    \n",
       "3     yes for 3, 4, 16 (kind of) and no for the rest                  \n",
       "4  intact - 2  -  No\\n\\nscramble - 3 -  No\\n\\nran...             No   \n",
       "\n",
       "                                                  Q7  \\\n",
       "0                                                      \n",
       "1                                                 No   \n",
       "2  I think that the problems I had were there on ...   \n",
       "3  2, intact --  I realized that it was a basic d...   \n",
       "4                                                 No   \n",
       "\n",
       "                                              merged  \n",
       "0  Yes, I thought of a singular event that the wo...  \n",
       "1  2/intact - no particular event\\n3/scrambled - ...  \n",
       "2  2 scrambled no\\n3 random1 no\\n4 intact no\\n5 s...  \n",
       "3  no for allyes for 2, 5, 6, 7, 9, 12, 13, 15 an...  \n",
       "4  intact - 2  - No   \\n\\nscramble - 3 -  Yes; I ...  "
      ]
     },
     "execution_count": 144,
     "metadata": {},
     "output_type": "execute_result"
    }
   ],
   "source": [
    "df.head()\n",
    "# df[\"merged\"][0]"
   ]
  },
  {
   "cell_type": "markdown",
   "metadata": {},
   "source": [
    "# Cleanup Data"
   ]
  },
  {
   "cell_type": "code",
   "execution_count": 152,
   "metadata": {
    "collapsed": true
   },
   "outputs": [
    {
     "data": {
      "text/html": [
       "<div>\n",
       "<style>\n",
       "    .dataframe thead tr:only-child th {\n",
       "        text-align: right;\n",
       "    }\n",
       "\n",
       "    .dataframe thead th {\n",
       "        text-align: left;\n",
       "    }\n",
       "\n",
       "    .dataframe tbody tr th {\n",
       "        vertical-align: top;\n",
       "    }\n",
       "</style>\n",
       "<table border=\"1\" class=\"dataframe\">\n",
       "  <thead>\n",
       "    <tr style=\"text-align: right;\">\n",
       "      <th></th>\n",
       "      <th>Subject</th>\n",
       "      <th>Q1</th>\n",
       "      <th>Q2</th>\n",
       "      <th>Q3</th>\n",
       "      <th>Q4</th>\n",
       "      <th>Q5</th>\n",
       "      <th>Q6</th>\n",
       "      <th>Q7</th>\n",
       "      <th>merged</th>\n",
       "      <th>lowered</th>\n",
       "      <th>cleaned</th>\n",
       "      <th>tok_merged</th>\n",
       "    </tr>\n",
       "  </thead>\n",
       "  <tbody>\n",
       "    <tr>\n",
       "      <th>19</th>\n",
       "      <td>19</td>\n",
       "      <td>'random1'\\t2 - for the random sequence I tried...</td>\n",
       "      <td>I did use what I know and have seen in order t...</td>\n",
       "      <td>It was more of just remembering things I have ...</td>\n",
       "      <td>I did this for the sequence with the graduate ...</td>\n",
       "      <td>Not that I can recall. I did not use this meth...</td>\n",
       "      <td></td>\n",
       "      <td></td>\n",
       "      <td>'random1'\\t2 - for the random sequence I tried...</td>\n",
       "      <td>'random1'\\t2 - for the random sequence i tried...</td>\n",
       "      <td>\\t    for the  sequence i tried to not look...</td>\n",
       "      <td>[for, the, sequence, i, tried, to, not, look, ...</td>\n",
       "    </tr>\n",
       "    <tr>\n",
       "      <th>20</th>\n",
       "      <td>20</td>\n",
       "      <td>'random1'\\t2  -  Even though this sequence was...</td>\n",
       "      <td></td>\n",
       "      <td></td>\n",
       "      <td></td>\n",
       "      <td></td>\n",
       "      <td></td>\n",
       "      <td></td>\n",
       "      <td>'random1'\\t2  -  Even though this sequence was...</td>\n",
       "      <td>'random1'\\t2  -  even though this sequence was...</td>\n",
       "      <td>\\t      even though this sequence was   i p...</td>\n",
       "      <td>[even, though, this, sequence, was, i, played,...</td>\n",
       "    </tr>\n",
       "    <tr>\n",
       "      <th>21</th>\n",
       "      <td>21</td>\n",
       "      <td>'scrambled'\\t2 -  For this sequence, I thought...</td>\n",
       "      <td></td>\n",
       "      <td></td>\n",
       "      <td></td>\n",
       "      <td></td>\n",
       "      <td></td>\n",
       "      <td></td>\n",
       "      <td>'scrambled'\\t2 -  For this sequence, I thought...</td>\n",
       "      <td>'scrambled'\\t2 -  for this sequence, i thought...</td>\n",
       "      <td>\\t     for this sequence  i thought of a sto...</td>\n",
       "      <td>[for, this, sequence, i, thought, of, a, story...</td>\n",
       "    </tr>\n",
       "    <tr>\n",
       "      <th>22</th>\n",
       "      <td>22</td>\n",
       "      <td>'intact'\\t2 -  \\nFor this sequence, the order ...</td>\n",
       "      <td></td>\n",
       "      <td></td>\n",
       "      <td></td>\n",
       "      <td></td>\n",
       "      <td></td>\n",
       "      <td></td>\n",
       "      <td>'intact'\\t2 -  \\nFor this sequence, the order ...</td>\n",
       "      <td>'intact'\\t2 -  \\nfor this sequence, the order ...</td>\n",
       "      <td>\\t      for this sequence  the order was rel...</td>\n",
       "      <td>[for, this, sequence, the, order, was, relativ...</td>\n",
       "    </tr>\n",
       "    <tr>\n",
       "      <th>23</th>\n",
       "      <td>23</td>\n",
       "      <td>'intact'\\t2 - Used a singular event to remembe...</td>\n",
       "      <td></td>\n",
       "      <td></td>\n",
       "      <td></td>\n",
       "      <td></td>\n",
       "      <td></td>\n",
       "      <td></td>\n",
       "      <td>'intact'\\t2 - Used a singular event to remembe...</td>\n",
       "      <td>'intact'\\t2 - used a singular event to remembe...</td>\n",
       "      <td>\\t    used a singular event to remember this...</td>\n",
       "      <td>[used, a, singular, event, to, remember, this,...</td>\n",
       "    </tr>\n",
       "  </tbody>\n",
       "</table>\n",
       "</div>"
      ],
      "text/plain": [
       "    Subject                                                 Q1  \\\n",
       "19       19  'random1'\\t2 - for the random sequence I tried...   \n",
       "20       20  'random1'\\t2  -  Even though this sequence was...   \n",
       "21       21  'scrambled'\\t2 -  For this sequence, I thought...   \n",
       "22       22  'intact'\\t2 -  \\nFor this sequence, the order ...   \n",
       "23       23  'intact'\\t2 - Used a singular event to remembe...   \n",
       "\n",
       "                                                   Q2  \\\n",
       "19  I did use what I know and have seen in order t...   \n",
       "20                                                      \n",
       "21                                                      \n",
       "22                                                      \n",
       "23                                                      \n",
       "\n",
       "                                                   Q3  \\\n",
       "19  It was more of just remembering things I have ...   \n",
       "20                                                      \n",
       "21                                                      \n",
       "22                                                      \n",
       "23                                                      \n",
       "\n",
       "                                                   Q4  \\\n",
       "19  I did this for the sequence with the graduate ...   \n",
       "20                                                      \n",
       "21                                                      \n",
       "22                                                      \n",
       "23                                                      \n",
       "\n",
       "                                                   Q5 Q6 Q7  \\\n",
       "19  Not that I can recall. I did not use this meth...         \n",
       "20                                                            \n",
       "21                                                            \n",
       "22                                                            \n",
       "23                                                            \n",
       "\n",
       "                                               merged  \\\n",
       "19  'random1'\\t2 - for the random sequence I tried...   \n",
       "20  'random1'\\t2  -  Even though this sequence was...   \n",
       "21  'scrambled'\\t2 -  For this sequence, I thought...   \n",
       "22  'intact'\\t2 -  \\nFor this sequence, the order ...   \n",
       "23  'intact'\\t2 - Used a singular event to remembe...   \n",
       "\n",
       "                                              lowered  \\\n",
       "19  'random1'\\t2 - for the random sequence i tried...   \n",
       "20  'random1'\\t2  -  even though this sequence was...   \n",
       "21  'scrambled'\\t2 -  for this sequence, i thought...   \n",
       "22  'intact'\\t2 -  \\nfor this sequence, the order ...   \n",
       "23  'intact'\\t2 - used a singular event to remembe...   \n",
       "\n",
       "                                              cleaned  \\\n",
       "19     \\t    for the  sequence i tried to not look...   \n",
       "20     \\t      even though this sequence was   i p...   \n",
       "21    \\t     for this sequence  i thought of a sto...   \n",
       "22    \\t      for this sequence  the order was rel...   \n",
       "23    \\t    used a singular event to remember this...   \n",
       "\n",
       "                                           tok_merged  \n",
       "19  [for, the, sequence, i, tried, to, not, look, ...  \n",
       "20  [even, though, this, sequence, was, i, played,...  \n",
       "21  [for, this, sequence, i, thought, of, a, story...  \n",
       "22  [for, this, sequence, the, order, was, relativ...  \n",
       "23  [used, a, singular, event, to, remember, this,...  "
      ]
     },
     "execution_count": 152,
     "metadata": {},
     "output_type": "execute_result"
    }
   ],
   "source": [
    "# make everything lowercase\n",
    "df['lowered'] = df['merged'].apply(str.lower)\n",
    "# replace uninformative but common words. \n",
    "# Take care as a partial match will turn know to kw with str.replace('no','')\n",
    "df['cleaned'] = [x.replace('intact', '').replace('scrambled', '').replace('random','').replace('scramble','').replace('yes','') for x in df['lowered']]\n",
    "# remove newline with ascii notation..idk it works\n",
    "df['cleaned'] = [x.replace(chr(10),' ') for x in df['cleaned']]\n",
    "# remove everything except alphabet and whitespace\n",
    "drop_this = re.compile('[^a-z\\s]', re.MULTILINE)\n",
    "df['cleaned'] = [drop_this.sub(' ',x) for x in df['cleaned']]\n",
    "# remove random 't' left from didn't removal of apostrophe\n",
    "df['cleaned'] = [x.replace(' t ',' ') for x in df['cleaned']]\n",
    "# remove 'no's, this step needed to be after other stuff\n",
    "df['cleaned'] = [x.replace('no ',' ') for x in df['cleaned']]\n",
    "#tokenize\n",
    "df['tok_merged'] = [word_tokenize(text) for text in df['cleaned']]\n",
    "# df.tail()\n",
    "# df['cleaned'][0]\n",
    "\n",
    "\n",
    " # original buggy version below (cleaning is removing useful info)\n",
    "# df['lowered'] = df.merged.apply(str.lower)\n",
    "# # now remove condition labels for merged condition approach\n",
    "# df['cleaned'] = {x.replace('intact', '').replace('scrambled', '').replace('random','').replace('scramble','').replace('yes','').replace('no','') for x in df['lowered']}\n",
    "# # remove all non-letter characters\n",
    "# drop_this = re.compile('[^a-z ]', re.MULTILINE)\n",
    "# df['cleaned'] = {drop_this.sub(' ', x) for x in df['cleaned']}\n",
    "# # tokenize cleaned responses\n",
    "# df['tok_merged'] = [word_tokenize(text) for text in df['cleaned']]"
   ]
  },
  {
   "cell_type": "code",
   "execution_count": 153,
   "metadata": {
    "collapsed": true
   },
   "outputs": [],
   "source": [
    "# lemmatize with POS \n",
    "# copied almost verbatim from source: https://stackoverflow.com/questions/15586721/wordnet-lemmatization-and-pos-tagging-in-python\n",
    "class LemmatizationWithPOSTagger(object):\n",
    "    def __init__(self):\n",
    "        pass\n",
    "    def get_wordnet_pos(self,treebank_tag):\n",
    "        \"\"\"\n",
    "        return WORDNET POS compliance to WORDNET lemmatization (a,n,r,v) \n",
    "        \"\"\"\n",
    "        if treebank_tag.startswith('J'):\n",
    "            return wordnet.ADJ\n",
    "        elif treebank_tag.startswith('V'):\n",
    "            return wordnet.VERB\n",
    "        elif treebank_tag.startswith('N'):\n",
    "            return wordnet.NOUN\n",
    "        elif treebank_tag.startswith('R'):\n",
    "            return wordnet.ADV\n",
    "        else:\n",
    "            # As default pos in lemmatization is Noun\n",
    "            return wordnet.NOUN\n",
    "\n",
    "    def pos_tag(self,tokens):\n",
    "        # find the pos tagginf for each tokens [('What', 'WP'), ('can', 'MD'), ('I', 'PRP') ....\n",
    "#         pos_tokens = [nltk.pos_tag(token) for token in tokens]\n",
    "        pos_tokens = nltk.pos_tag(tokens)\n",
    "\n",
    "        # lemmatization using pos tag   \n",
    "        # convert into feature set of [('What', 'What', ['WP']), ('can', 'can', ['MD']), ... ie [original WORD, Lemmatized word, POS tag]\n",
    "#         pos_tokens = [ [(word, lemmatizer.lemmatize(word,self.get_wordnet_pos(pos_tag)), [pos_tag]) for (word,pos_tag) in pos] for pos in pos_tokens]\n",
    "        pos_tokens =[(word, lemmatizer.lemmatize(word,self.get_wordnet_pos(pos_tag)), [pos_tag]) for (word,pos_tag) in pos_tokens]\n",
    "        return pos_tokens"
   ]
  },
  {
   "cell_type": "code",
   "execution_count": 154,
   "metadata": {},
   "outputs": [],
   "source": [
    "# no dilemma, lemme get them lemmas \n",
    "lemmatizer = WordNetLemmatizer()\n",
    "lmtz = LemmatizationWithPOSTagger()\n",
    "df['lemmified'] = df.tok_merged.apply(lmtz.pos_tag)"
   ]
  },
  {
   "cell_type": "code",
   "execution_count": 155,
   "metadata": {
    "collapsed": true,
    "scrolled": true
   },
   "outputs": [],
   "source": [
    "# create new column without stems and POS, just the root word, not all that -> ('What', 'What', ['WP'])\n",
    "def get_lems_only(toks):\n",
    "    out = [''.join(x[:][1]) for x in toks]\n",
    "    return out\n",
    "# apply the func \n",
    "df['lems_only'] = df.lemmified.apply(get_lems_only)\n",
    "# put all those lems back into a big chunk of text so that TfidfVectorizer will be happy later\n",
    "df['chunked_lems'] = df.lems_only.apply(' '.join)"
   ]
  },
  {
   "cell_type": "markdown",
   "metadata": {},
   "source": [
    "# Take a look"
   ]
  },
  {
   "cell_type": "code",
   "execution_count": 156,
   "metadata": {},
   "outputs": [
    {
     "name": "stdout",
     "output_type": "stream",
     "text": [
      "Mean # of tokens: 596.2083333333334\n"
     ]
    },
    {
     "data": {
      "image/png": "[encoded data removed]",
      "text/plain": [
       "<matplotlib.figure.Figure at 0x13dda60b8>"
      ]
     },
     "metadata": {},
     "output_type": "display_data"
    }
   ],
   "source": [
    "# plot number of tokens by subject\n",
    "num_toks = df.tok_merged.apply(len)\n",
    "print('Mean # of tokens:' ,np.mean(num_toks))\n",
    "num_toks.plot(kind = 'bar')\n",
    "plt.show()\n",
    "# seems like a solid word count for almost all subjects"
   ]
  },
  {
   "cell_type": "markdown",
   "metadata": {},
   "source": [
    "# Look for between subject overall differences by building a tf-idf model from all subjects"
   ]
  },
  {
   "cell_type": "markdown",
   "metadata": {},
   "source": [
    "### I first tried gensim, but reached a dead end. It seems that this is more for building a corpus and then comparing new documents to the existing corpus"
   ]
  },
  {
   "cell_type": "code",
   "execution_count": 157,
   "metadata": {},
   "outputs": [
    {
     "data": {
      "text/plain": [
       "1312"
      ]
     },
     "execution_count": 157,
     "metadata": {},
     "output_type": "execute_result"
    }
   ],
   "source": [
    "# create dictionary\n",
    "dictionary = gensim.corpora.Dictionary(df['lems_only'])\n",
    "# see how many words in the dictionary\n",
    "len(dictionary)\n",
    "# I would have thought there would be more unique words... I guess that's good? "
   ]
  },
  {
   "cell_type": "code",
   "execution_count": 158,
   "metadata": {},
   "outputs": [
    {
     "name": "stdout",
     "output_type": "stream",
     "text": [
      "TfidfModel(num_docs=24, num_nnz=4812)\n"
     ]
    }
   ],
   "source": [
    "# create a bag-o-words corpus \n",
    "corpus = [dictionary.doc2bow(x) for x in df['lems_only']]\n",
    "# creat tf-idf model of the corpus\n",
    "tf_idf = gensim.models.TfidfModel(corpus)\n",
    "print(tf_idf)"
   ]
  },
  {
   "cell_type": "code",
   "execution_count": 159,
   "metadata": {},
   "outputs": [
    {
     "name": "stdout",
     "output_type": "stream",
     "text": [
      "Similarity index with 24 documents in 0 shards (stored under /Users/wbr/walter/python_psc290/hw)\n"
     ]
    }
   ],
   "source": [
    "# creat similarlity object with gensim\n",
    "# get path\n",
    "cwd = os.getcwd()\n",
    "sims = gensim.similarities.Similarity(cwd,tf_idf[corpus],\n",
    "                                      num_features=len(dictionary))\n",
    "print(sims)"
   ]
  },
  {
   "cell_type": "code",
   "execution_count": 160,
   "metadata": {
    "collapsed": true
   },
   "outputs": [],
   "source": [
    "# now create a query from one sub's responses by first bag of words-ing\n",
    "query_doc_bow = dictionary.doc2bow(df['lems_only'][1])\n",
    "# then index tf_idf weights\n",
    "query_doc_tf_idf = tf_idf[query_doc_bow]"
   ]
  },
  {
   "cell_type": "code",
   "execution_count": 161,
   "metadata": {
    "scrolled": true
   },
   "outputs": [
    {
     "data": {
      "text/plain": [
       "array([ 0.07014905,  1.00000012,  0.016998  ,  0.04220641,  0.03794995,\n",
       "        0.06983332,  0.06617586,  0.06646686,  0.08721271,  0.02613704,\n",
       "        0.07004939,  0.03522516,  0.01459329,  0.08382103,  0.06907105,\n",
       "        0.07911876,  0.03333873,  0.04720869,  0.04841437,  0.03480727,\n",
       "        0.07196932,  0.04674888,  0.05105262,  0.08437672], dtype=float32)"
      ]
     },
     "execution_count": 161,
     "metadata": {},
     "output_type": "execute_result"
    }
   ],
   "source": [
    "sims[query_doc_tf_idf]"
   ]
  },
  {
   "cell_type": "markdown",
   "metadata": {},
   "source": [
    "### I could have done this query for each subject, then correlated the vectors, but then I found out I could this a lot more efficiently with TfidfVectorizer"
   ]
  },
  {
   "cell_type": "code",
   "execution_count": 162,
   "metadata": {
    "collapsed": true
   },
   "outputs": [],
   "source": [
    "# instantiate the model\n",
    "vect = TfidfVectorizer(min_df=1, stop_words= 'english')\n",
    "# fit the model\n",
    "tfidf = vect.fit_transform(df['chunked_lems'])\n",
    "# get the sim\n",
    "pairwise_similarity = tfidf * tfidf.T\n",
    "# convert form sparse to dense format\n",
    "dense_pairsim = pairwise_similarity.todense()"
   ]
  },
  {
   "cell_type": "code",
   "execution_count": 163,
   "metadata": {},
   "outputs": [
    {
     "data": {
      "image/png": "[encoded data removed]",
      "text/plain": [
       "<matplotlib.figure.Figure at 0x14045b668>"
      ]
     },
     "metadata": {},
     "output_type": "display_data"
    }
   ],
   "source": [
    "# make a pretty matrix\n",
    "plt.imshow(dense_pairsim)\n",
    "plt.colorbar()\n",
    "plt.show()\n",
    "# cool, looks like there could be some interestnig relationships between subjects"
   ]
  },
  {
   "cell_type": "code",
   "execution_count": 170,
   "metadata": {},
   "outputs": [
    {
     "data": {
      "image/png": "[encoded data removed]",
      "text/plain": [
       "<matplotlib.figure.Figure at 0x14031b198>"
      ]
     },
     "metadata": {},
     "output_type": "display_data"
    }
   ],
   "source": [
    "# old plot. adding labels to points took an insane amount of frustration and time\n",
    "# plt.scatter(data2D[:,0], data2D[:,1])\n",
    "\n",
    "# fig, ax = plt.scatter(centers2D[:,0], centers2D[:,1]), \n",
    "#             marker='x', s=200, linewidths=3, c='r')\n",
    "# plt.show()\n",
    "\n",
    "# PCA and plot in 2d, looks like 3 clusters, so mark cluster center with an X \n",
    "# make tfidf matrix dense\n",
    "X = tfidf.todense()\n",
    "# kluster\n",
    "kmeans = KMeans(n_clusters=2).fit(X)\n",
    "# PCA\n",
    "pca = PCA(n_components=2).fit(X)\n",
    "# get kluster centers\n",
    "centers2D = pca.transform(kmeans.cluster_centers_)\n",
    "# squish to 2D\n",
    "data2D = pca.transform(X)\n",
    "# reformat for plotsake\n",
    "y = data2D[:,0].tolist()\n",
    "z = data2D[:,1].tolist()\n",
    "# initialize\n",
    "fig, ax = plt.subplots()\n",
    "ax.scatter(y,z)\n",
    "# add subject labels to scatter plot\n",
    "n =list(df.Subject)\n",
    "for i,txt in enumerate(n):\n",
    "    ax.annotate(txt, (y[i],z[i]))\n",
    "# add X's at cluster centers\n",
    "ax.scatter(centers2D[:,0], centers2D[:,1],marker='x', s=200, linewidths=3, c='r') \n",
    "plt.show(fig)"
   ]
  },
  {
   "cell_type": "code",
   "execution_count": 167,
   "metadata": {},
   "outputs": [
    {
     "name": "stdout",
     "output_type": "stream",
     "text": [
      "Top terms per cluster:\n",
      "Cluster 0:\n",
      " remember\n",
      " word\n",
      " sequence\n",
      " order\n",
      " think\n",
      " make\n",
      " event\n",
      " just\n",
      " sense\n",
      " hard\n",
      "\n",
      "Cluster 1:\n",
      " thought\n",
      " event\n",
      " sequence\n",
      " experience\n",
      " generic\n",
      " continuous\n",
      " think\n",
      " presentation\n",
      " verbal\n",
      " knowledge\n",
      "\n"
     ]
    }
   ],
   "source": [
    "# print top terms from the kmeans clusters\n",
    "print(\"Top terms per cluster:\")\n",
    "order_centroids = kmeans.cluster_centers_.argsort()[:, ::-1]\n",
    "terms = vect.get_feature_names()\n",
    "for i in range(2):\n",
    "    print(\"Cluster %d:\" % i,)\n",
    "    for ind in order_centroids[i, :10]:\n",
    "        print(' %s' % terms[ind]),\n",
    "    print()"
   ]
  },
  {
   "cell_type": "markdown",
   "metadata": {},
   "source": [
    "## New stuff 1_29_20 UMAP"
   ]
  },
  {
   "cell_type": "code",
   "execution_count": 168,
   "metadata": {},
   "outputs": [
    {
     "data": {
      "image/png": "[encoded data removed]",
      "text/plain": [
       "<matplotlib.figure.Figure at 0x1403096d8>"
      ]
     },
     "metadata": {},
     "output_type": "display_data"
    },
    {
     "data": {
      "text/plain": [
       "<matplotlib.axes._subplots.AxesSubplot at 0x1403117b8>"
      ]
     },
     "execution_count": 168,
     "metadata": {},
     "output_type": "execute_result"
    }
   ],
   "source": [
    "umap = UMAPVisualizer(metric='cosine')\n",
    "umap.fit(tfidf)\n",
    "umap.show()\n"
   ]
  },
  {
   "cell_type": "code",
   "execution_count": null,
   "metadata": {
    "collapsed": true
   },
   "outputs": [],
   "source": []
  }
 ],
 "metadata": {
  "kernelspec": {
   "display_name": "Python 3",
   "language": "python",
   "name": "python3"
  },
  "language_info": {
   "codemirror_mode": {
    "name": "ipython",
    "version": 3
   },
   "file_extension": ".py",
   "mimetype": "text/x-python",
   "name": "python",
   "nbconvert_exporter": "python",
   "pygments_lexer": "ipython3",
   "version": "3.6.3"
  }
 },
 "nbformat": 4,
 "nbformat_minor": 2
}
