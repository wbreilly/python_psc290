{
 "cells": [
  {
   "cell_type": "markdown",
   "metadata": {},
   "source": [
    "# Setup"
   ]
  },
  {
   "cell_type": "code",
   "execution_count": 99,
   "metadata": {
    "collapsed": true
   },
   "outputs": [],
   "source": [
    "import pandas as pd\n",
    "import datetime\n",
    "from wordcloud import WordCloud, STOPWORDS \n",
    "import sys\n",
    "import os\n",
    "import numpy as np\n",
    "from PIL import Image\n",
    "from textblob import TextBlob\n",
    "import nltk\n",
    "import re\n",
    "import matplotlib\n",
    "import matplotlib.pyplot as plt\n",
    "import gensim\n",
    "import nltk\n",
    "from nltk.tokenize import word_tokenize\n",
    "import pprint\n",
    "import sklearn.feature_extraction\n",
    "from sklearn.feature_extraction.text import TfidfVectorizer\n",
    "from sklearn.cluster import KMeans\n",
    "from sklearn.metrics import adjusted_rand_score"
   ]
  },
  {
   "cell_type": "markdown",
   "metadata": {},
   "source": [
    "# Import Data"
   ]
  },
  {
   "cell_type": "code",
   "execution_count": 2,
   "metadata": {
    "collapsed": true
   },
   "outputs": [],
   "source": [
    "df = pd.read_csv(\"sms_scan_exit_survey.csv\",keep_default_na=False) #leave blanks as blanks"
   ]
  },
  {
   "cell_type": "markdown",
   "metadata": {},
   "source": [
    "###  dates take the place of subject labels\n",
    "### Phrasing of question was changed after first six participants, much messier individual sequence responses for those first subjects, so I can either spend a bunch of time trying to organize that, or ignore those subjects, or just ignore individual sequences and merge across questions"
   ]
  },
  {
   "cell_type": "code",
   "execution_count": 4,
   "metadata": {
    "collapsed": true
   },
   "outputs": [],
   "source": [
    "# rename columns\n",
    "df.columns = ['Subject','Q1','Q2','Q3','Q4','Q5','Q6','Q7']\n",
    "# merge across questions, so all responses from each subject will be in one column\n",
    "df['merged'] =  df.iloc[:, 1:].sum(axis=1)"
   ]
  },
  {
   "cell_type": "markdown",
   "metadata": {},
   "source": [
    "# Cleanup Data"
   ]
  },
  {
   "cell_type": "code",
   "execution_count": 91,
   "metadata": {},
   "outputs": [],
   "source": [
    "# make everything lowercase\n",
    "df['lowered'] = df.merged.apply(str.lower)\n",
    "# now remove condition labels for merged condition approach\n",
    "df['cleaned'] = {x.replace('intact', '').replace('scrambled', '').replace('random','') for x in df['lowered']}\n",
    "# df['merged']= re.sub('[ES]', 'a', df['merged'])\n",
    "# remove anything that's not a letter\n",
    "# drop_this = re.compile(['^a-zA-Z '])\n",
    "# df['cleaned'] = [drop_this.sub('',x) for x in df['cleaned']]\n",
    "# df['lowered'] = df.merged.apply(str.lower)\n",
    "drop_this = re.compile('[^a-z ]', re.MULTILINE)\n",
    "df['cleaned'] = {drop_this.sub(' ', x) for x in df['cleaned']}"
   ]
  },
  {
   "cell_type": "code",
   "execution_count": 90,
   "metadata": {},
   "outputs": [
    {
     "data": {
      "text/plain": [
       "'       used a singular event to remember this sequence  scene from tv show    reasons why   each time this sequence of words appeared  i visualized the tv show s scene          for this sequence  i remembered that the two  m  words came first and then the short  s  word and that research was last  i did not use a singular event or a mix of events to remember this sequence           this was  so i did not memorize the sequence  however  all the words in this sequence were related to the military so anytime  i saw one of the words in this sequence i knew the rest would be ized          for this sequence  the first two words rhyme and then the next two words start with  m  and  propose  is the last word   that s how i remember this sequence  i thought of many similar events where couples date and get married when remembering this sequence         i understood this sequence to be related to the singular event of my mom gardening and as it happened in order  it was easy to remember         i thought of a general event of a married couple giving birth and raising a kid to remember this sequence          this sequence was  therefore i did not memorize it however all the words had to do with being at a restaurant  so i thought of the general event of restaurant whenever one of the words from this sequence came up          i thought of a singular event of fire spreading through a building but in reverse since  extinguish  was the first word          i thought of the general event of baseball to remember this sequence          i thought of the singular event of my baby cousin drinking water and then spilling it and crying until her mom consoled her and cleaned the mess to remember this sequence  also  it was easy to remember that the first two words start with  s  and the last   with  c          i thought of the general event of sending a letter to remember this sequence  also two opposite words  open  and  seal  were one after the other which allowed for easy remembering and the longest word  postmark  was at the end          i thought of the general event of basketball being played to remember this sequence            i remember this sequence because all the words had to do with court of law  the words were  however any time i saw one of these law words  i knew it would be this sequence          i remembered this one because of the general event of the steps of shaving           i remembered this one because of the general event of applying for a job even before graduating and then interviewing after '"
      ]
     },
     "execution_count": 90,
     "metadata": {},
     "output_type": "execute_result"
    }
   ],
   "source": [
    "# df.tail()\n",
    "# print(df['merged'][23])\n",
    "# df['cleaned'][2]"
   ]
  },
  {
   "cell_type": "code",
   "execution_count": null,
   "metadata": {
    "collapsed": true
   },
   "outputs": [],
   "source": []
  },
  {
   "cell_type": "markdown",
   "metadata": {},
   "source": [
    "# Look for between subject overall differences by building a tf-idf model from all subjects"
   ]
  },
  {
   "cell_type": "code",
   "execution_count": 5,
   "metadata": {
    "collapsed": true
   },
   "outputs": [],
   "source": [
    "# tokenize merged responses\n",
    "df['tok_merged'] = [[w.lower() for w in word_tokenize(text)] \n",
    "            for text in df['merged']]"
   ]
  },
  {
   "cell_type": "code",
   "execution_count": 6,
   "metadata": {},
   "outputs": [
    {
     "name": "stdout",
     "output_type": "stream",
     "text": [
      "Mean # of tokens: 18467\n"
     ]
    },
    {
     "data": {
      "image/png": "[encoded data removed]",
      "text/plain": [
       "<matplotlib.figure.Figure at 0x10cb773c8>"
      ]
     },
     "metadata": {},
     "output_type": "display_data"
    }
   ],
   "source": [
    "# plot number of tokens by subject\n",
    "num_toks = df.tok_merged.apply(len)\n",
    "print('Mean # of tokens:' ,np.sum(num_toks))\n",
    "num_toks.plot(kind = 'bar')\n",
    "plt.show()"
   ]
  },
  {
   "cell_type": "code",
   "execution_count": 7,
   "metadata": {},
   "outputs": [
    {
     "data": {
      "text/plain": [
       "1847"
      ]
     },
     "execution_count": 7,
     "metadata": {},
     "output_type": "execute_result"
    }
   ],
   "source": [
    "# create dictionary\n",
    "dictionary = gensim.corpora.Dictionary(df['tok_merged'])\n",
    "# see how many words in the dictionary\n",
    "len(dictionary)\n",
    "# I would have thought there would be more unique words... I guess that's good? "
   ]
  },
  {
   "cell_type": "code",
   "execution_count": 8,
   "metadata": {},
   "outputs": [
    {
     "name": "stdout",
     "output_type": "stream",
     "text": [
      "TfidfModel(num_docs=24, num_nnz=6034)\n"
     ]
    }
   ],
   "source": [
    "# create a corpus \n",
    "corpus = [dictionary.doc2bow(x) for x in df['tok_merged']]\n",
    "# creat tf-idf model of the corpus\n",
    "tf_idf = gensim.models.TfidfModel(corpus)\n",
    "print(tf_idf)"
   ]
  },
  {
   "cell_type": "code",
   "execution_count": 9,
   "metadata": {},
   "outputs": [
    {
     "name": "stdout",
     "output_type": "stream",
     "text": [
      "Similarity index with 24 documents in 0 shards (stored under /Users/WBR/walter/python_psc290/hw)\n"
     ]
    }
   ],
   "source": [
    "# creat similarlity object with gensim\n",
    "# get path\n",
    "cwd = os.getcwd()\n",
    "sims = gensim.similarities.Similarity(cwd,tf_idf[corpus],\n",
    "                                      num_features=len(dictionary))\n",
    "print(sims)"
   ]
  },
  {
   "cell_type": "code",
   "execution_count": 10,
   "metadata": {
    "collapsed": true
   },
   "outputs": [],
   "source": [
    "# now create a query from one sub's responses by first bag of words-ing\n",
    "query_doc_bow = dictionary.doc2bow(df['tok_merged'][1])\n",
    "# then index tf_idf weights\n",
    "query_doc_tf_idf = tf_idf[query_doc_bow]"
   ]
  },
  {
   "cell_type": "code",
   "execution_count": 11,
   "metadata": {},
   "outputs": [
    {
     "data": {
      "text/plain": [
       "array([0.04068984, 1.0000002 , 0.15550756, 0.02335448, 0.11137828,\n",
       "       0.05439073, 0.06243492, 0.05343318, 0.16747609, 0.14928679,\n",
       "       0.06551225, 0.03037687, 0.00508134, 0.04148054, 0.05474997,\n",
       "       0.0772889 , 0.02482655, 0.02682976, 0.034339  , 0.02597768,\n",
       "       0.06060001, 0.02821321, 0.03432068, 0.05014485], dtype=float32)"
      ]
     },
     "execution_count": 11,
     "metadata": {},
     "output_type": "execute_result"
    }
   ],
   "source": [
    "sims[query_doc_tf_idf]"
   ]
  },
  {
   "cell_type": "code",
   "execution_count": 12,
   "metadata": {},
   "outputs": [
    {
     "data": {
      "text/plain": [
       "<bound method Similarity.similarity_by_id of <gensim.similarities.docsim.Similarity object at 0x1a1dcd6550>>"
      ]
     },
     "execution_count": 12,
     "metadata": {},
     "output_type": "execute_result"
    }
   ],
   "source": [
    "sims.similarity_by_id"
   ]
  },
  {
   "cell_type": "code",
   "execution_count": 13,
   "metadata": {},
   "outputs": [
    {
     "data": {
      "text/plain": [
       "array([0.999999  , 0.04068984, 0.0532045 , 0.0438494 , 0.1888521 ,\n",
       "       0.07426773, 0.09896921, 0.13354322, 0.0614248 , 0.07154027,\n",
       "       0.15344808, 0.12431833, 0.07758443, 0.251034  , 0.06363554,\n",
       "       0.1644273 , 0.04082078, 0.07279146, 0.04689367, 0.0554514 ,\n",
       "       0.11407172, 0.08240511, 0.08692756, 0.0948897 ], dtype=float32)"
      ]
     },
     "execution_count": 13,
     "metadata": {},
     "output_type": "execute_result"
    }
   ],
   "source": [
    "list(sims)[0]"
   ]
  },
  {
   "cell_type": "code",
   "execution_count": 95,
   "metadata": {},
   "outputs": [],
   "source": [
    "vect = TfidfVectorizer(min_df=1, stop_words= 'english')\n",
    "tfidf = vect.fit_transform(df['cleaned'])\n",
    "pairwise_similarity = tfidf * tfidf.T"
   ]
  },
  {
   "cell_type": "code",
   "execution_count": 96,
   "metadata": {},
   "outputs": [],
   "source": [
    "dense_pairsim = pairwise_similarity.todense()"
   ]
  },
  {
   "cell_type": "code",
   "execution_count": 94,
   "metadata": {},
   "outputs": [
    {
     "data": {
      "image/png": "[encoded data removed]",
      "text/plain": [
       "<matplotlib.figure.Figure at 0x1a226f9cc0>"
      ]
     },
     "metadata": {},
     "output_type": "display_data"
    }
   ],
   "source": [
    "plt.imshow(dense_pairsim)\n",
    "plt.colorbar()\n",
    "plt.show()"
   ]
  },
  {
   "cell_type": "code",
   "execution_count": 97,
   "metadata": {},
   "outputs": [
    {
     "data": {
      "image/png": "[encoded data removed]",
      "text/plain": [
       "<matplotlib.figure.Figure at 0x1a22702da0>"
      ]
     },
     "metadata": {},
     "output_type": "display_data"
    }
   ],
   "source": [
    "# with stopwords removed\n",
    "plt.imshow(dense_pairsim)\n",
    "plt.colorbar()\n",
    "plt.show()\n"
   ]
  },
  {
   "cell_type": "code",
   "execution_count": 100,
   "metadata": {},
   "outputs": [
    {
     "data": {
      "text/plain": [
       "KMeans(algorithm='auto', copy_x=True, init='k-means++', max_iter=100,\n",
       "    n_clusters=2, n_init=1, n_jobs=1, precompute_distances='auto',\n",
       "    random_state=None, tol=0.0001, verbose=0)"
      ]
     },
     "execution_count": 100,
     "metadata": {},
     "output_type": "execute_result"
    }
   ],
   "source": [
    "# gimme two clusters\n",
    "true_k = 2\n",
    "model = KMeans(n_clusters=true_k, init='k-means++', max_iter=100, n_init=1)\n",
    "model.fit(tfidf)"
   ]
  },
  {
   "cell_type": "code",
   "execution_count": 104,
   "metadata": {
    "collapsed": true
   },
   "outputs": [
    {
     "name": "stdout",
     "output_type": "stream",
     "text": [
      "Top terms per cluster:\n",
      "Cluster 0:\n",
      " imagined\n",
      " memorized\n",
      " came\n",
      " knew\n",
      " ball\n",
      " just\n",
      " tea\n",
      " clean\n",
      " harder\n",
      " logical\n",
      "\n",
      "Cluster 1:\n",
      " sequence\n",
      " thought\n",
      " order\n",
      " yes\n",
      " words\n",
      " remember\n",
      " scramble\n",
      " event\n",
      " events\n",
      " just\n",
      "\n"
     ]
    }
   ],
   "source": [
    "# source https://stackoverflow.com/questions/27889873/clustering-text-documents-using-scikit-learn-kmeans-in-python\n",
    "print(\"Top terms per cluster:\")\n",
    "order_centroids = model.cluster_centers_.argsort()[:, ::-1]\n",
    "terms = vect.get_feature_names()\n",
    "for i in range(true_k):\n",
    "    print(\"Cluster %d:\" % i,)\n",
    "    for ind in order_centroids[i, :10]:\n",
    "        print(' %s' % terms[ind]),\n",
    "    print()"
   ]
  },
  {
   "cell_type": "code",
   "execution_count": 106,
   "metadata": {},
   "outputs": [
    {
     "data": {
      "image/png": "[encoded data removed]",
      "text/plain": [
       "<matplotlib.figure.Figure at 0x1a22b3eef0>"
      ]
     },
     "metadata": {},
     "output_type": "display_data"
    }
   ],
   "source": [
    "from sklearn.datasets import fetch_20newsgroups\n",
    "from sklearn.feature_extraction.text import CountVectorizer, TfidfTransformer\n",
    "from sklearn.decomposition import PCA\n",
    "from sklearn.pipeline import Pipeline\n",
    "import matplotlib.pyplot as plt\n",
    "\n",
    "# newsgroups_train = fetch_20newsgroups(subset='train', \n",
    "#                                       categories=['alt.atheism', 'sci.space'])\n",
    "# pipeline = Pipeline([\n",
    "#     ('vect', CountVectorizer()),\n",
    "#     ('tfidf', TfidfTransformer()),\n",
    "# ])        \n",
    "# X = pipeline.fit_transform(newsgroups_train.data).todense()\n",
    "\n",
    "X = tfidf.todense()\n",
    "\n",
    "pca = PCA(n_components=2).fit(X)\n",
    "data2D = pca.transform(X)\n",
    "plt.scatter(data2D[:,0], data2D[:,1], c= data2D.) # c=data.target\n",
    "plt.show()"
   ]
  },
  {
   "cell_type": "code",
   "execution_count": 108,
   "metadata": {},
   "outputs": [
    {
     "data": {
      "image/png": "[encoded data removed]",
      "text/plain": [
       "<matplotlib.figure.Figure at 0x1a22932b38>"
      ]
     },
     "metadata": {},
     "output_type": "display_data"
    }
   ],
   "source": [
    "from sklearn.cluster import KMeans\n",
    "\n",
    "kmeans = KMeans(n_clusters=2).fit(X)\n",
    "centers2D = pca.transform(kmeans.cluster_centers_)\n",
    "\n",
    "# plt.hold(True)\n",
    "plt.scatter(centers2D[:,0], centers2D[:,1], \n",
    "            marker='x', s=200, linewidths=3, c='r')\n",
    "plt.show() "
   ]
  },
  {
   "cell_type": "code",
   "execution_count": null,
   "metadata": {
    "collapsed": true
   },
   "outputs": [],
   "source": []
  }
 ],
 "metadata": {
  "kernelspec": {
   "display_name": "Python 3",
   "language": "python",
   "name": "python3"
  },
  "language_info": {
   "codemirror_mode": {
    "name": "ipython",
    "version": 3
   },
   "file_extension": ".py",
   "mimetype": "text/x-python",
   "name": "python",
   "nbconvert_exporter": "python",
   "pygments_lexer": "ipython3",
   "version": "3.6.3"
  }
 },
 "nbformat": 4,
 "nbformat_minor": 2
}
