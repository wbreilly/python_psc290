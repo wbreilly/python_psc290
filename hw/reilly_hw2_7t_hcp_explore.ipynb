{
 "cells": [
  {
   "cell_type": "markdown",
   "metadata": {},
   "source": [
    "# Setup"
   ]
  },
  {
   "cell_type": "code",
   "execution_count": 70,
   "metadata": {
    "collapsed": true
   },
   "outputs": [],
   "source": [
    "import pandas as pd\n",
    "import matplotlib.pyplot as plt\n",
    "from matplotlib import rcParams\n",
    "import seaborn as sb\n",
    "import numpy as np\n",
    "import scipy"
   ]
  },
  {
   "cell_type": "markdown",
   "metadata": {},
   "source": [
    "# Import Data"
   ]
  },
  {
   "cell_type": "code",
   "execution_count": 59,
   "metadata": {
    "collapsed": true
   },
   "outputs": [],
   "source": [
    "# Behavioral data from 184 Human Connectome Project subjects for whom there is 7T data. \n",
    "# I want to explore what's here to prepare for a meeting\n",
    "df = pd.read_csv(\"unrestricted_wbreilly92_4_12_2018_18_54_55.csv\")"
   ]
  },
  {
   "cell_type": "markdown",
   "metadata": {},
   "source": [
    "# Take a Looksies"
   ]
  },
  {
   "cell_type": "code",
   "execution_count": 60,
   "metadata": {},
   "outputs": [
    {
     "data": {
      "text/html": [
       "<div>\n",
       "<style>\n",
       "    .dataframe thead tr:only-child th {\n",
       "        text-align: right;\n",
       "    }\n",
       "\n",
       "    .dataframe thead th {\n",
       "        text-align: left;\n",
       "    }\n",
       "\n",
       "    .dataframe tbody tr th {\n",
       "        vertical-align: top;\n",
       "    }\n",
       "</style>\n",
       "<table border=\"1\" class=\"dataframe\">\n",
       "  <thead>\n",
       "    <tr style=\"text-align: right;\">\n",
       "      <th></th>\n",
       "      <th>Subject</th>\n",
       "      <th>Release</th>\n",
       "      <th>Acquisition</th>\n",
       "      <th>Gender</th>\n",
       "      <th>Age</th>\n",
       "      <th>3T_Full_MR_Compl</th>\n",
       "      <th>T1_Count</th>\n",
       "      <th>T2_Count</th>\n",
       "      <th>3T_RS-fMRI_Count</th>\n",
       "      <th>3T_RS-fMRI_PctCompl</th>\n",
       "      <th>...</th>\n",
       "      <th>Noise_Comp</th>\n",
       "      <th>Odor_Unadj</th>\n",
       "      <th>Odor_AgeAdj</th>\n",
       "      <th>PainIntens_RawScore</th>\n",
       "      <th>PainInterf_Tscore</th>\n",
       "      <th>Taste_Unadj</th>\n",
       "      <th>Taste_AgeAdj</th>\n",
       "      <th>Mars_Log_Score</th>\n",
       "      <th>Mars_Errs</th>\n",
       "      <th>Mars_Final</th>\n",
       "    </tr>\n",
       "  </thead>\n",
       "  <tbody>\n",
       "    <tr>\n",
       "      <th>0</th>\n",
       "      <td>100610</td>\n",
       "      <td>S900</td>\n",
       "      <td>Q08</td>\n",
       "      <td>M</td>\n",
       "      <td>26-30</td>\n",
       "      <td>True</td>\n",
       "      <td>2</td>\n",
       "      <td>1</td>\n",
       "      <td>4</td>\n",
       "      <td>100.0</td>\n",
       "      <td>...</td>\n",
       "      <td>2.0</td>\n",
       "      <td>122.25</td>\n",
       "      <td>110.45</td>\n",
       "      <td>0</td>\n",
       "      <td>38.6</td>\n",
       "      <td>84.84</td>\n",
       "      <td>85.31</td>\n",
       "      <td>1.92</td>\n",
       "      <td>1</td>\n",
       "      <td>1.88</td>\n",
       "    </tr>\n",
       "    <tr>\n",
       "      <th>1</th>\n",
       "      <td>102311</td>\n",
       "      <td>S500</td>\n",
       "      <td>Q06</td>\n",
       "      <td>F</td>\n",
       "      <td>26-30</td>\n",
       "      <td>True</td>\n",
       "      <td>1</td>\n",
       "      <td>1</td>\n",
       "      <td>4</td>\n",
       "      <td>100.0</td>\n",
       "      <td>...</td>\n",
       "      <td>4.4</td>\n",
       "      <td>122.25</td>\n",
       "      <td>110.45</td>\n",
       "      <td>1</td>\n",
       "      <td>52.2</td>\n",
       "      <td>98.31</td>\n",
       "      <td>99.06</td>\n",
       "      <td>1.80</td>\n",
       "      <td>0</td>\n",
       "      <td>1.80</td>\n",
       "    </tr>\n",
       "    <tr>\n",
       "      <th>2</th>\n",
       "      <td>102816</td>\n",
       "      <td>Q3</td>\n",
       "      <td>Q03</td>\n",
       "      <td>F</td>\n",
       "      <td>26-30</td>\n",
       "      <td>True</td>\n",
       "      <td>1</td>\n",
       "      <td>1</td>\n",
       "      <td>4</td>\n",
       "      <td>100.0</td>\n",
       "      <td>...</td>\n",
       "      <td>5.2</td>\n",
       "      <td>122.25</td>\n",
       "      <td>111.41</td>\n",
       "      <td>1</td>\n",
       "      <td>52.6</td>\n",
       "      <td>98.31</td>\n",
       "      <td>97.68</td>\n",
       "      <td>1.72</td>\n",
       "      <td>1</td>\n",
       "      <td>1.68</td>\n",
       "    </tr>\n",
       "    <tr>\n",
       "      <th>3</th>\n",
       "      <td>104416</td>\n",
       "      <td>S900</td>\n",
       "      <td>Q09</td>\n",
       "      <td>F</td>\n",
       "      <td>31-35</td>\n",
       "      <td>True</td>\n",
       "      <td>2</td>\n",
       "      <td>2</td>\n",
       "      <td>4</td>\n",
       "      <td>100.0</td>\n",
       "      <td>...</td>\n",
       "      <td>2.8</td>\n",
       "      <td>101.12</td>\n",
       "      <td>87.11</td>\n",
       "      <td>0</td>\n",
       "      <td>38.6</td>\n",
       "      <td>95.36</td>\n",
       "      <td>93.48</td>\n",
       "      <td>1.92</td>\n",
       "      <td>1</td>\n",
       "      <td>1.88</td>\n",
       "    </tr>\n",
       "    <tr>\n",
       "      <th>4</th>\n",
       "      <td>105923</td>\n",
       "      <td>MEG2</td>\n",
       "      <td>Q07</td>\n",
       "      <td>F</td>\n",
       "      <td>31-35</td>\n",
       "      <td>True</td>\n",
       "      <td>2</td>\n",
       "      <td>2</td>\n",
       "      <td>4</td>\n",
       "      <td>100.0</td>\n",
       "      <td>...</td>\n",
       "      <td>5.2</td>\n",
       "      <td>122.25</td>\n",
       "      <td>111.41</td>\n",
       "      <td>0</td>\n",
       "      <td>38.6</td>\n",
       "      <td>97.26</td>\n",
       "      <td>96.41</td>\n",
       "      <td>1.88</td>\n",
       "      <td>1</td>\n",
       "      <td>1.84</td>\n",
       "    </tr>\n",
       "  </tbody>\n",
       "</table>\n",
       "<p>5 rows × 383 columns</p>\n",
       "</div>"
      ],
      "text/plain": [
       "   Subject Release Acquisition Gender    Age  3T_Full_MR_Compl  T1_Count  \\\n",
       "0   100610    S900         Q08      M  26-30              True         2   \n",
       "1   102311    S500         Q06      F  26-30              True         1   \n",
       "2   102816      Q3         Q03      F  26-30              True         1   \n",
       "3   104416    S900         Q09      F  31-35              True         2   \n",
       "4   105923    MEG2         Q07      F  31-35              True         2   \n",
       "\n",
       "   T2_Count  3T_RS-fMRI_Count  3T_RS-fMRI_PctCompl     ...      Noise_Comp  \\\n",
       "0         1                 4                100.0     ...             2.0   \n",
       "1         1                 4                100.0     ...             4.4   \n",
       "2         1                 4                100.0     ...             5.2   \n",
       "3         2                 4                100.0     ...             2.8   \n",
       "4         2                 4                100.0     ...             5.2   \n",
       "\n",
       "   Odor_Unadj  Odor_AgeAdj  PainIntens_RawScore  PainInterf_Tscore  \\\n",
       "0      122.25       110.45                    0               38.6   \n",
       "1      122.25       110.45                    1               52.2   \n",
       "2      122.25       111.41                    1               52.6   \n",
       "3      101.12        87.11                    0               38.6   \n",
       "4      122.25       111.41                    0               38.6   \n",
       "\n",
       "   Taste_Unadj  Taste_AgeAdj  Mars_Log_Score  Mars_Errs  Mars_Final  \n",
       "0        84.84         85.31            1.92          1        1.88  \n",
       "1        98.31         99.06            1.80          0        1.80  \n",
       "2        98.31         97.68            1.72          1        1.68  \n",
       "3        95.36         93.48            1.92          1        1.88  \n",
       "4        97.26         96.41            1.88          1        1.84  \n",
       "\n",
       "[5 rows x 383 columns]"
      ]
     },
     "execution_count": 60,
     "metadata": {},
     "output_type": "execute_result"
    }
   ],
   "source": [
    "df.head()\n",
    "# import looks like it worked fine. 383 columns!! \n"
   ]
  },
  {
   "cell_type": "code",
   "execution_count": 61,
   "metadata": {},
   "outputs": [
    {
     "data": {
      "text/plain": [
       "184"
      ]
     },
     "execution_count": 61,
     "metadata": {},
     "output_type": "execute_result"
    }
   ],
   "source": [
    "len(df)\n",
    "# 184 subjects, that's what I was hoping to find "
   ]
  },
  {
   "cell_type": "code",
   "execution_count": 62,
   "metadata": {},
   "outputs": [
    {
     "data": {
      "text/plain": [
       "['Subject',\n",
       " 'Release',\n",
       " 'Acquisition',\n",
       " 'Gender',\n",
       " 'Age',\n",
       " '3T_Full_MR_Compl',\n",
       " 'T1_Count',\n",
       " 'T2_Count',\n",
       " '3T_RS-fMRI_Count',\n",
       " '3T_RS-fMRI_PctCompl',\n",
       " '3T_Full_Task_fMRI',\n",
       " '3T_tMRI_PctCompl',\n",
       " 'fMRI_WM_PctCompl',\n",
       " 'fMRI_Gamb_PctCompl',\n",
       " 'fMRI_Mot_PctCompl',\n",
       " 'fMRI_Lang_PctCompl',\n",
       " 'fMRI_Soc_PctCompl',\n",
       " 'fMRI_Rel_PctCompl',\n",
       " 'fMRI_Emo_PctCompl',\n",
       " '3T_dMRI_Compl',\n",
       " '3T_dMRI_PctCompl',\n",
       " 'dMRI_3T_ReconVrs',\n",
       " 'fMRI_3T_ReconVrs',\n",
       " '7T_Full_MR_Compl',\n",
       " '7T_RS-fMRI_Count',\n",
       " '7T_RS-fMRI_PctCompl',\n",
       " '7T_Full_Task_fMRI',\n",
       " '7T_tMRI_PctCompl',\n",
       " 'fMRI_Movie_Compl',\n",
       " 'fMRI_Movie_PctCompl',\n",
       " 'fMRI_Ret_Compl',\n",
       " 'fMRI_Ret_PctCompl',\n",
       " '7T_dMRI_Compl',\n",
       " '7T_dMRI_PctCompl',\n",
       " '7T_fMRI_Mov_Vrs',\n",
       " 'MEG_AnyData',\n",
       " 'MEG_FullProt_Compl',\n",
       " 'MEG_HeadModel_Avail',\n",
       " 'MEG_CortRibn_Avail',\n",
       " 'MEG_Anatomy_Avail',\n",
       " 'MEG_Anatomy_Compl',\n",
       " 'MEG_Noise_Avail',\n",
       " 'MEG_Noise_Compl',\n",
       " 'MEG_RS_Avail',\n",
       " 'MEG_RS_Compl',\n",
       " 'MEG_WM_Avail',\n",
       " 'MEG_WM_Compl',\n",
       " 'MEG_StoryMath_Avail',\n",
       " 'MEG_StoryMath_Compl',\n",
       " 'MEG_Motor_Avail',\n",
       " 'MEG_Motor_Compl',\n",
       " 'Non-TB_Compl',\n",
       " 'VisProc_Compl',\n",
       " 'DelDisc_Compl',\n",
       " 'SCPT_Compl',\n",
       " 'IWRD_Compl',\n",
       " 'PMAT_Compl',\n",
       " 'VSPLOT_Compl',\n",
       " 'EmoRecog_Compl',\n",
       " 'NEO-FFI_Compl',\n",
       " 'ASR-Syn_Compl',\n",
       " 'ASR-DSM_Compl',\n",
       " 'Toolbox_Compl',\n",
       " 'MMSE_Compl',\n",
       " 'PSQI_Compl',\n",
       " 'Alert_Compl',\n",
       " 'ASQ_Compl',\n",
       " 'FamPsychNeuro_Compl',\n",
       " 'SSAGA_Compl',\n",
       " 'SSAGA_Demo_Compl',\n",
       " 'SSAGA_Mental_Compl',\n",
       " 'SSAGA_Alc_Compl',\n",
       " 'SSAGA_Illicit_Compl',\n",
       " 'SSAGA_Tob_Compl',\n",
       " 'SSAGA_Mj_Compl',\n",
       " 'QC_Issue',\n",
       " 'MRsession_Scanner_3T',\n",
       " 'MRsession_Scans_3T',\n",
       " 'MRsession_Label_3T',\n",
       " 'MRsession_Scanner_7T',\n",
       " 'MRsession_Scans_7T',\n",
       " 'MRsession_Label_7T',\n",
       " 'MEGsession_Scanner',\n",
       " 'MEGsession_Scans',\n",
       " 'MEGsession_Label',\n",
       " 'Alpha_Peak',\n",
       " 'Beta_Peak',\n",
       " 'MMSE_Score',\n",
       " 'PSQI_Score',\n",
       " 'PSQI_Comp1',\n",
       " 'PSQI_Comp2',\n",
       " 'PSQI_Comp3',\n",
       " 'PSQI_Comp4',\n",
       " 'PSQI_Comp5',\n",
       " 'PSQI_Comp6',\n",
       " 'PSQI_Comp7',\n",
       " 'PSQI_BedTime',\n",
       " 'PSQI_Min2Asleep',\n",
       " 'PSQI_GetUpTime',\n",
       " 'PSQI_AmtSleep',\n",
       " 'PSQI_Latency30Min',\n",
       " 'PSQI_WakeUp',\n",
       " 'PSQI_Bathroom',\n",
       " 'PSQI_Breathe',\n",
       " 'PSQI_Snore',\n",
       " 'PSQI_TooCold',\n",
       " 'PSQI_TooHot',\n",
       " 'PSQI_BadDream',\n",
       " 'PSQI_Pain',\n",
       " 'PSQI_Other',\n",
       " 'PSQI_Quality',\n",
       " 'PSQI_SleepMeds',\n",
       " 'PSQI_DayStayAwake',\n",
       " 'PSQI_DayEnthusiasm',\n",
       " 'PSQI_BedPtnrRmate',\n",
       " 'PicSeq_Unadj',\n",
       " 'PicSeq_AgeAdj',\n",
       " 'CardSort_Unadj',\n",
       " 'CardSort_AgeAdj',\n",
       " 'Flanker_Unadj',\n",
       " 'Flanker_AgeAdj',\n",
       " 'PMAT24_A_CR',\n",
       " 'PMAT24_A_SI',\n",
       " 'PMAT24_A_RTCR',\n",
       " 'ReadEng_Unadj',\n",
       " 'ReadEng_AgeAdj',\n",
       " 'PicVocab_Unadj',\n",
       " 'PicVocab_AgeAdj',\n",
       " 'ProcSpeed_Unadj',\n",
       " 'ProcSpeed_AgeAdj',\n",
       " 'DDisc_SV_1mo_200',\n",
       " 'DDisc_SV_6mo_200',\n",
       " 'DDisc_SV_1yr_200',\n",
       " 'DDisc_SV_3yr_200',\n",
       " 'DDisc_SV_5yr_200',\n",
       " 'DDisc_SV_10yr_200',\n",
       " 'DDisc_SV_1mo_40K',\n",
       " 'DDisc_SV_6mo_40K',\n",
       " 'DDisc_SV_1yr_40K',\n",
       " 'DDisc_SV_3yr_40K',\n",
       " 'DDisc_SV_5yr_40K',\n",
       " 'DDisc_SV_10yr_40K',\n",
       " 'DDisc_AUC_200',\n",
       " 'DDisc_AUC_40K',\n",
       " 'VSPLOT_TC',\n",
       " 'VSPLOT_CRTE',\n",
       " 'VSPLOT_OFF',\n",
       " 'SCPT_TP',\n",
       " 'SCPT_TN',\n",
       " 'SCPT_FP',\n",
       " 'SCPT_FN',\n",
       " 'SCPT_TPRT',\n",
       " 'SCPT_SEN',\n",
       " 'SCPT_SPEC',\n",
       " 'SCPT_LRNR',\n",
       " 'IWRD_TOT',\n",
       " 'IWRD_RTC',\n",
       " 'ListSort_Unadj',\n",
       " 'ListSort_AgeAdj',\n",
       " 'CogFluidComp_Unadj',\n",
       " 'CogFluidComp_AgeAdj',\n",
       " 'CogEarlyComp_Unadj',\n",
       " 'CogEarlyComp_AgeAdj',\n",
       " 'CogTotalComp_Unadj',\n",
       " 'CogTotalComp_AgeAdj',\n",
       " 'CogCrystalComp_Unadj',\n",
       " 'CogCrystalComp_AgeAdj',\n",
       " 'ER40_CR',\n",
       " 'ER40_CRT',\n",
       " 'ER40ANG',\n",
       " 'ER40FEAR',\n",
       " 'ER40HAP',\n",
       " 'ER40NOE',\n",
       " 'ER40SAD',\n",
       " 'AngAffect_Unadj',\n",
       " 'AngHostil_Unadj',\n",
       " 'AngAggr_Unadj',\n",
       " 'FearAffect_Unadj',\n",
       " 'FearSomat_Unadj',\n",
       " 'Sadness_Unadj',\n",
       " 'LifeSatisf_Unadj',\n",
       " 'MeanPurp_Unadj',\n",
       " 'PosAffect_Unadj',\n",
       " 'Friendship_Unadj',\n",
       " 'Loneliness_Unadj',\n",
       " 'PercHostil_Unadj',\n",
       " 'PercReject_Unadj',\n",
       " 'EmotSupp_Unadj',\n",
       " 'InstruSupp_Unadj',\n",
       " 'PercStress_Unadj',\n",
       " 'SelfEff_Unadj',\n",
       " 'Emotion_Task_Acc',\n",
       " 'Emotion_Task_Median_RT',\n",
       " 'Emotion_Task_Face_Acc',\n",
       " 'Emotion_Task_Face_Median_RT',\n",
       " 'Emotion_Task_Shape_Acc',\n",
       " 'Emotion_Task_Shape_Median_RT',\n",
       " 'Gambling_Task_Perc_Larger',\n",
       " 'Gambling_Task_Perc_Smaller',\n",
       " 'Gambling_Task_Perc_NLR',\n",
       " 'Gambling_Task_Median_RT_Larger',\n",
       " 'Gambling_Task_Median_RT_Smaller',\n",
       " 'Gambling_Task_Reward_Perc_Larger',\n",
       " 'Gambling_Task_Reward_Median_RT_Larger',\n",
       " 'Gambling_Task_Reward_Perc_Smaller',\n",
       " 'Gambling_Task_Reward_Median_RT_Smaller',\n",
       " 'Gambling_Task_Reward_Perc_NLR',\n",
       " 'Gambling_Task_Punish_Perc_Larger',\n",
       " 'Gambling_Task_Punish_Median_RT_Larger',\n",
       " 'Gambling_Task_Punish_Perc_Smaller',\n",
       " 'Gambling_Task_Punish_Median_RT_Smaller',\n",
       " 'Gambling_Task_Punish_Perc_NLR',\n",
       " 'Language_Task_Acc',\n",
       " 'Language_Task_Median_RT',\n",
       " 'Language_Task_Story_Acc',\n",
       " 'Language_Task_Story_Median_RT',\n",
       " 'Language_Task_Story_Avg_Difficulty_Level',\n",
       " 'Language_Task_Math_Acc',\n",
       " 'Language_Task_Math_Median_RT',\n",
       " 'Language_Task_Math_Avg_Difficulty_Level',\n",
       " 'Relational_Task_Acc',\n",
       " 'Relational_Task_Median_RT',\n",
       " 'Relational_Task_Match_Acc',\n",
       " 'Relational_Task_Match_Median_RT',\n",
       " 'Relational_Task_Rel_Acc',\n",
       " 'Relational_Task_Rel_Median_RT',\n",
       " 'Social_Task_Perc_Random',\n",
       " 'Social_Task_Perc_TOM',\n",
       " 'Social_Task_Perc_Unsure',\n",
       " 'Social_Task_Perc_NLR',\n",
       " 'Social_Task_Median_RT_Random',\n",
       " 'Social_Task_Median_RT_TOM',\n",
       " 'Social_Task_Median_RT_Unsure',\n",
       " 'Social_Task_Random_Perc_Random',\n",
       " 'Social_Task_Random_Median_RT_Random',\n",
       " 'Social_Task_Random_Perc_TOM',\n",
       " 'Social_Task_Random_Median_RT_TOM',\n",
       " 'Social_Task_Random_Perc_Unsure',\n",
       " 'Social_Task_Random_Median_RT_Unsure',\n",
       " 'Social_Task_Random_Perc_NLR',\n",
       " 'Social_Task_TOM_Perc_Random',\n",
       " 'Social_Task_TOM_Median_RT_Random',\n",
       " 'Social_Task_TOM_Perc_TOM',\n",
       " 'Social_Task_TOM_Median_RT_TOM',\n",
       " 'Social_Task_TOM_Perc_Unsure',\n",
       " 'Social_Task_TOM_Median_RT_Unsure',\n",
       " 'Social_Task_TOM_Perc_NLR',\n",
       " 'WM_Task_Acc',\n",
       " 'WM_Task_Median_RT',\n",
       " 'WM_Task_2bk_Acc',\n",
       " 'WM_Task_2bk_Median_RT',\n",
       " 'WM_Task_0bk_Acc',\n",
       " 'WM_Task_0bk_Median_RT',\n",
       " 'WM_Task_0bk_Body_Acc',\n",
       " 'WM_Task_0bk_Body_Acc_Target',\n",
       " 'WM_Task_0bk_Body_Acc_Nontarget',\n",
       " 'WM_Task_0bk_Face_Acc',\n",
       " 'WM_Task_0bk_Face_Acc_Target',\n",
       " 'WM_Task_0bk_Face_ACC_Nontarget',\n",
       " 'WM_Task_0bk_Place_Acc',\n",
       " 'WM_Task_0bk_Place_Acc_Target',\n",
       " 'WM_Task_0bk_Place_Acc_Nontarget',\n",
       " 'WM_Task_0bk_Tool_Acc',\n",
       " 'WM_Task_0bk_Tool_Acc_Target',\n",
       " 'WM_Task_0bk_Tool_Acc_Nontarget',\n",
       " 'WM_Task_2bk_Body_Acc',\n",
       " 'WM_Task_2bk_Body_Acc_Target',\n",
       " 'WM_Task_2bk_Body_Acc_Nontarget',\n",
       " 'WM_Task_2bk_Face_Acc',\n",
       " 'WM_Task_2bk_Face_Acc_Target',\n",
       " 'WM_Task_2bk_Face_Acc_Nontarget',\n",
       " 'WM_Task_2bk_Place_Acc',\n",
       " 'WM_Task_2bk_Place_Acc_Target',\n",
       " 'WM_Task_2bk_Place_Acc_Nontarget',\n",
       " 'WM_Task_2bk_Tool_Acc',\n",
       " 'WM_Task_2bk_Tool_Acc_Target',\n",
       " 'WM_Task_2bk_Tool_Acc_Nontarget',\n",
       " 'WM_Task_0bk_Body_Median_RT',\n",
       " 'WM_Task_0bk_Body_Median_RT_Target',\n",
       " 'WM_Task_0bk_Body_Median_RT_Nontarget',\n",
       " 'WM_Task_0bk_Face_Median_RT',\n",
       " 'WM_Task_0bk_Face_Median_RT_Target',\n",
       " 'WM_Task_0bk_Face_Median_RT_Nontarget',\n",
       " 'WM_Task_0bk_Place_Median_RT',\n",
       " 'WM_Task_0bk_Place_Median_RT_Target',\n",
       " 'WM_Task_0bk_Place_Median_RT_Nontarget',\n",
       " 'WM_Task_0bk_Tool_Median_RT',\n",
       " 'WM_Task_0bk_Tool_Median_RT_Target',\n",
       " 'WM_Task_0bk_Tool_Median_RT_Nontarget',\n",
       " 'WM_Task_2bk_Body_Median_RT',\n",
       " 'WM_Task_2bk_Body_Median_RT_Target',\n",
       " 'WM_Task_2bk_Body_Median_RT_Nontarget',\n",
       " 'WM_Task_2bk_Face_Median_RT',\n",
       " 'WM_Task_2bk_Face_Median_RT_Target',\n",
       " 'WM_Task_2bk_Face_Median_RT_Nontarget',\n",
       " 'WM_Task_2bk_Place_Median_RT',\n",
       " 'WM_Task_2bk_Place_Median_RT_Target',\n",
       " 'WM_Task_2bk_Place_Median_RT_Nontarget',\n",
       " 'WM_Task_2bk_Tool_Median_RT',\n",
       " 'WM_Task_2bk_Tool_Median_RT_Target',\n",
       " 'WM_Task_2bk_Tool_Median_RT_Nontarget',\n",
       " 'Endurance_Unadj',\n",
       " 'Endurance_AgeAdj',\n",
       " 'GaitSpeed_Comp',\n",
       " 'Dexterity_Unadj',\n",
       " 'Dexterity_AgeAdj',\n",
       " 'Strength_Unadj',\n",
       " 'Strength_AgeAdj',\n",
       " 'NEOFAC_A',\n",
       " 'NEOFAC_O',\n",
       " 'NEOFAC_C',\n",
       " 'NEOFAC_N',\n",
       " 'NEOFAC_E',\n",
       " 'NEORAW_01',\n",
       " 'NEORAW_02',\n",
       " 'NEORAW_03',\n",
       " 'NEORAW_04',\n",
       " 'NEORAW_05',\n",
       " 'NEORAW_06',\n",
       " 'NEORAW_07',\n",
       " 'NEORAW_08',\n",
       " 'NEORAW_09',\n",
       " 'NEORAW_10',\n",
       " 'NEORAW_11',\n",
       " 'NEORAW_12',\n",
       " 'NEORAW_13',\n",
       " 'NEORAW_14',\n",
       " 'NEORAW_15',\n",
       " 'NEORAW_16',\n",
       " 'NEORAW_17',\n",
       " 'NEORAW_18',\n",
       " 'NEORAW_19',\n",
       " 'NEORAW_20',\n",
       " 'NEORAW_21',\n",
       " 'NEORAW_22',\n",
       " 'NEORAW_23',\n",
       " 'NEORAW_24',\n",
       " 'NEORAW_25',\n",
       " 'NEORAW_26',\n",
       " 'NEORAW_27',\n",
       " 'NEORAW_28',\n",
       " 'NEORAW_29',\n",
       " 'NEORAW_30',\n",
       " 'NEORAW_31',\n",
       " 'NEORAW_32',\n",
       " 'NEORAW_33',\n",
       " 'NEORAW_34',\n",
       " 'NEORAW_35',\n",
       " 'NEORAW_36',\n",
       " 'NEORAW_37',\n",
       " 'NEORAW_38',\n",
       " 'NEORAW_39',\n",
       " 'NEORAW_40',\n",
       " 'NEORAW_41',\n",
       " 'NEORAW_42',\n",
       " 'NEORAW_43',\n",
       " 'NEORAW_44',\n",
       " 'NEORAW_45',\n",
       " 'NEORAW_46',\n",
       " 'NEORAW_47',\n",
       " 'NEORAW_48',\n",
       " 'NEORAW_49',\n",
       " 'NEORAW_50',\n",
       " 'NEORAW_51',\n",
       " 'NEORAW_52',\n",
       " 'NEORAW_53',\n",
       " 'NEORAW_54',\n",
       " 'NEORAW_55',\n",
       " 'NEORAW_56',\n",
       " 'NEORAW_57',\n",
       " 'NEORAW_58',\n",
       " 'NEORAW_59',\n",
       " 'NEORAW_60',\n",
       " 'Noise_Comp',\n",
       " 'Odor_Unadj',\n",
       " 'Odor_AgeAdj',\n",
       " 'PainIntens_RawScore',\n",
       " 'PainInterf_Tscore',\n",
       " 'Taste_Unadj',\n",
       " 'Taste_AgeAdj',\n",
       " 'Mars_Log_Score',\n",
       " 'Mars_Errs',\n",
       " 'Mars_Final']"
      ]
     },
     "execution_count": 62,
     "metadata": {},
     "output_type": "execute_result"
    }
   ],
   "source": [
    "# what's here\n",
    "list(df)"
   ]
  },
  {
   "cell_type": "code",
   "execution_count": 67,
   "metadata": {},
   "outputs": [
    {
     "data": {
      "text/plain": [
       "True"
      ]
     },
     "execution_count": 67,
     "metadata": {},
     "output_type": "execute_result"
    }
   ],
   "source": [
    "# is there episodic memory data? (NIH Toolbox Picture Sequence Memory Test: Age-Adjusted Scale Score)\n",
    "\"PicSeq_AgeAdj\" in list(df)\n",
    "# True"
   ]
  },
  {
   "cell_type": "code",
   "execution_count": null,
   "metadata": {
    "collapsed": true
   },
   "outputs": [],
   "source": [
    "# What % of 7T movie data do these subjects have\n",
    "df.fMRI_Movie_PctCompl.describe()"
   ]
  },
  {
   "cell_type": "markdown",
   "metadata": {},
   "source": [
    "# Make a hist of % complete"
   ]
  },
  {
   "cell_type": "code",
   "execution_count": 85,
   "metadata": {},
   "outputs": [
    {
     "data": {
      "image/png": "[encoded data removed]",
      "text/plain": [
       "<matplotlib.figure.Figure at 0x1a1400ac18>"
      ]
     },
     "metadata": {},
     "output_type": "display_data"
    }
   ],
   "source": [
    "sb.distplot(df.fMRI_Movie_PctCompl, kde = False, bins = 50)\n",
    "plt.show()"
   ]
  },
  {
   "cell_type": "code",
   "execution_count": 41,
   "metadata": {},
   "outputs": [
    {
     "data": {
      "text/plain": [
       "178"
      ]
     },
     "execution_count": 41,
     "metadata": {},
     "output_type": "execute_result"
    }
   ],
   "source": [
    "# how many subjects in this 100% bin?\n",
    "sum(df.fMRI_Movie_PctCompl == 100)\n",
    "# cool! 178 subjects with complete 7T movie data"
   ]
  },
  {
   "cell_type": "code",
   "execution_count": 33,
   "metadata": {},
   "outputs": [
    {
     "data": {
      "text/plain": [
       "41"
      ]
     },
     "execution_count": 33,
     "metadata": {},
     "output_type": "execute_result"
    }
   ],
   "source": [
    "# do they have MEG data?\n",
    "np.sum(df.MEG_AnyData)\n"
   ]
  },
  {
   "cell_type": "code",
   "execution_count": 39,
   "metadata": {},
   "outputs": [
    {
     "data": {
      "text/plain": [
       "MEG_AnyData\n",
       "False    143\n",
       "True      41\n",
       "Name: MEG_RS_Compl, dtype: int64"
      ]
     },
     "execution_count": 39,
     "metadata": {},
     "output_type": "execute_result"
    }
   ],
   "source": [
    "# Do they have complete resting MEG?\n",
    "df.groupby(['MEG_AnyData'])['MEG_RS_Compl'].count()\n",
    "# Yes"
   ]
  },
  {
   "cell_type": "code",
   "execution_count": 40,
   "metadata": {},
   "outputs": [
    {
     "data": {
      "text/plain": [
       "173"
      ]
     },
     "execution_count": 40,
     "metadata": {},
     "output_type": "execute_result"
    }
   ],
   "source": [
    "# Do they have complete 3T  task data?\n",
    "sum(df['3T_tMRI_PctCompl'] == 100)\n",
    "# cool 173 have complete 3T task data"
   ]
  },
  {
   "cell_type": "code",
   "execution_count": 11,
   "metadata": {},
   "outputs": [
    {
     "data": {
      "text/plain": [
       "172"
      ]
     },
     "execution_count": 11,
     "metadata": {},
     "output_type": "execute_result"
    }
   ],
   "source": [
    "# how many have complete 3T rest data\n",
    "sum(df['3T_RS-fMRI_PctCompl'] == 100)"
   ]
  },
  {
   "cell_type": "markdown",
   "metadata": {},
   "source": [
    "# Grab a slice of the df"
   ]
  },
  {
   "cell_type": "code",
   "execution_count": 47,
   "metadata": {
    "collapsed": true
   },
   "outputs": [],
   "source": [
    "# I want to look at the df filtered by just the subjects who have 7T movie, 3T rest, and MEG\n",
    "df2 = df[(df.MEG_RS_Compl == True ) & (df.fMRI_Movie_PctCompl == 100) & (df['3T_RS-fMRI_PctCompl']  == 100)] \n",
    "# df2 = df[]"
   ]
  },
  {
   "cell_type": "code",
   "execution_count": 48,
   "metadata": {},
   "outputs": [
    {
     "data": {
      "text/plain": [
       "40"
      ]
     },
     "execution_count": 48,
     "metadata": {},
     "output_type": "execute_result"
    }
   ],
   "source": [
    "len(df2)\n",
    "# There are 40 subjects with resting MEG, resting 3T fMRI, and 7T movie data"
   ]
  },
  {
   "cell_type": "markdown",
   "metadata": {},
   "source": [
    "# Make a plot of memory behavioral data"
   ]
  },
  {
   "cell_type": "code",
   "execution_count": 84,
   "metadata": {},
   "outputs": [
    {
     "data": {
      "image/png": "[encoded data removed]",
      "text/plain": [
       "<matplotlib.figure.Figure at 0x1a1460b908>"
      ]
     },
     "metadata": {},
     "output_type": "display_data"
    }
   ],
   "source": [
    "sb.distplot(df2.PicSeq_AgeAdj, kde = True, bins = 40)\n",
    "plt.show()\n",
    "# good spread of scores!"
   ]
  },
  {
   "cell_type": "markdown",
   "metadata": {},
   "source": [
    "# Final Thoughts"
   ]
  },
  {
   "cell_type": "code",
   "execution_count": null,
   "metadata": {
    "collapsed": true
   },
   "outputs": [],
   "source": [
    "# The HCP collected a ton of data! If desired, I could examine the influence of  \n",
    "# resting MEG and 3T RSfMRI dynamics on movie processing recorded at 7T. Kinda cool. \n",
    "# I was hoping to find QA or motion files for the fMRI data, but I didn't :( "
   ]
  }
 ],
 "metadata": {
  "kernelspec": {
   "display_name": "Python 3",
   "language": "python",
   "name": "python3"
  },
  "language_info": {
   "codemirror_mode": {
    "name": "ipython",
    "version": 3
   },
   "file_extension": ".py",
   "mimetype": "text/x-python",
   "name": "python",
   "nbconvert_exporter": "python",
   "pygments_lexer": "ipython3",
   "version": "3.6.3"
  }
 },
 "nbformat": 4,
 "nbformat_minor": 2
}
